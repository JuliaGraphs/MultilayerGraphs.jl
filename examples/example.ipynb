{
 "cells": [
  {
   "cell_type": "code",
   "execution_count": 1,
   "metadata": {},
   "outputs": [],
   "source": [
    "using Graphs, SimpleWeightedGraphs, MetaGraphs\n",
    "using DataStructures\n",
    "using LinearAlgebra, SparseArrays\n",
    "using MultilayerGraphs"
   ]
  },
  {
   "cell_type": "markdown",
   "metadata": {},
   "source": [
    "## Instantiate a MultilayerGraph\n",
    "First create the layers and the Interlayers it is composed of"
   ]
  },
  {
   "cell_type": "code",
   "execution_count": 2,
   "metadata": {},
   "outputs": [
    {
     "data": {
      "text/plain": [
       "{50, 50} directed Int64 metagraph with Float64 weights defined by :weight (default weight 1.0)"
      ]
     },
     "metadata": {},
     "output_type": "display_data"
    }
   ],
   "source": [
    "const n_nodes = 50\n",
    "const min_edges = 50\n",
    "const max_edges = 100\n",
    "\n",
    "const simplegraph_edgelist = Edge.([ Tuple(rand(1:n_nodes, 2)) for i in 1:n_nodes ])\n",
    "simplegraph = SimpleGraph(50, rand(min_edges:max_edges) )\n",
    "\n",
    "const simpledigraph_edgelist = Edge.([ Tuple(rand(1:n_nodes, 2)) for i in 1:n_nodes  ])\n",
    "simpledigraph = SimpleDiGraph(50, rand(min_edges:max_edges) )\n",
    "\n",
    "const simpleweightedgraph_sources = 1:n_nodes #Edge.([ Tuple(rand(1:n_nodes, 2)) for i in 1:rand(min_edges:max_edges)  ])\n",
    "const simpleweightedgraph_destinations = rand(1:n_nodes, 50)\n",
    "const simpleweightedgraph_weights = rand(50)\n",
    "simpleweighteddigraph = SimpleWeightedDiGraph(simpleweightedgraph_sources, simpleweightedgraph_destinations, simpleweightedgraph_weights)\n",
    "\n",
    "metadigraph = MetaDiGraph(simpleweighteddigraph)"
   ]
  },
  {
   "cell_type": "markdown",
   "metadata": {},
   "source": [
    "Create the Layers and Interlayers arrays and instantiate the MultilayerGraph"
   ]
  },
  {
   "cell_type": "code",
   "execution_count": 3,
   "metadata": {},
   "outputs": [
    {
     "data": {
      "text/plain": [
       "MultilayerGraph_ten{Int64}([0.0 0.0 … 0.0 0.0; 0.0 0.0 … 0.0 0.0; … ; 0.0 0.0 … 0.0 0.0; 0.0 0.0 … 0.0 0.0;;; 0.0 0.0 … 0.0 0.0; 0.0 0.0 … 0.0 0.0; … ; 0.0 0.0 … 0.0 0.0; 0.0 0.0 … 0.0 0.0;;; 0.0 0.0 … 0.0 0.0; 0.0 0.0 … 0.0 0.0; … ; 0.0 0.0 … 0.0 0.0; 0.0 0.0 … 0.0 0.0;;;; 0.0 0.0 … 0.0 0.0; 0.0 0.0 … 0.0 0.0; … ; 0.0 0.0 … 0.0 0.0; 0.0 0.0 … 0.0 0.0;;; 0.0 0.0 … 0.0 0.0; 0.0 0.0 … 0.0 0.0; … ; 0.0 0.0 … 0.0 0.0; 0.0 0.0 … 0.0 0.0;;; 1.0 0.0 … 0.0 0.0; 0.0 1.0 … 0.0 0.0; … ; 0.0 0.0 … 1.0 0.0; 0.0 0.0 … 0.0 1.0;;;; 0.0 0.0 … 0.0 0.0; 0.0 0.0 … 0.0 0.0; … ; 0.0 0.0 … 0.0 0.0; 0.0 0.0 … 0.0 0.0;;; 1.0 0.0 … 0.0 0.0; 0.0 1.0 … 0.0 0.0; … ; 0.0 0.0 … 1.0 0.0; 0.0 0.0 … 0.0 1.0;;; 0.0 0.0 … 0.0 0.0; 0.0 0.0 … 0.0 0.0; … ; 0.0 0.0 … 0.0 0.0; 0.0 0.0 … 0.0 0.0], Layer[Layer{SimpleGraph{Int64}}(:layer_1, {50, 78} undirected simple Int64 graph), Layer{MetaDiGraph{Int64, Float64}}(:layer_2, {50, 50} directed Int64 metagraph with Float64 weights defined by :weight (default weight 1.0)), Layer{MetaDiGraph{Int64, Float64}}(:layer_3, {50, 50} directed Int64 metagraph with Float64 weights defined by :weight (default weight 1.0))], InterLayer{SimpleWeightedDiGraph{Int64, Float64}}[InterLayer{SimpleWeightedDiGraph{Int64, Float64}}(:interlayer_1_2, :layer_1, :layer_2, {50, 50} directed simple Int64 graph with Float64 weights), InterLayer{SimpleWeightedDiGraph{Int64, Float64}}(:interlayer_1_3, :layer_1, :layer_3, {50, 50} directed simple Int64 graph with Float64 weights), InterLayer{SimpleWeightedDiGraph{Int64, Float64}}(:interlayer_3_2, :layer_3, :layer_2, {50, 50} directed simple Int64 graph with Float64 weights), InterLayer{SimpleWeightedDiGraph{Int64, Float64}}(:interlayer_2_3, :layer_2, :layer_3, {50, 50} directed simple Int64 graph with Float64 weights)])"
      ]
     },
     "metadata": {},
     "output_type": "display_data"
    }
   ],
   "source": [
    "# Specify layers\n",
    "layers = [Layer(:layer_1, simplegraph ),Layer(:layer_2, metadigraph ),Layer(:layer_3, metadigraph )]#OrderedDict(:layer_1 => simplegraph,  :layer_2 => metadigraph, :layer_3 => metadigraph)\n",
    "\n",
    "# Specify interlayers\n",
    "interlayers = [InterLayer(:interlayer_1_2 , :layer_1, :layer_2, simpleweighteddigraph), InterLayer(:interlayer_1_3, :layer_1, :layer_3, simpleweighteddigraph) ]\n",
    "\n",
    "# Create MultilayerGraph\n",
    "multilayer_graph = MultilayerGraph_ten(layers, interlayers)"
   ]
  },
  {
   "cell_type": "markdown",
   "metadata": {},
   "source": [
    "An utility contructor allows for creating Multiplexes"
   ]
  },
  {
   "cell_type": "code",
   "execution_count": 4,
   "metadata": {},
   "outputs": [
    {
     "data": {
      "text/plain": [
       "MultilayerGraph_ten{Int64}([0.0 0.0 … 0.0 0.0; 0.0 0.0 … 0.0 0.0; … ; 0.0 0.0 … 0.0 0.0; 0.0 0.0 … 0.0 0.0;;; 1.0 0.0 … 0.0 0.0; 0.0 1.0 … 0.0 0.0; … ; 0.0 0.0 … 1.0 0.0; 0.0 0.0 … 0.0 1.0;;; 1.0 0.0 … 0.0 0.0; 0.0 1.0 … 0.0 0.0; … ; 0.0 0.0 … 1.0 0.0; 0.0 0.0 … 0.0 1.0;;;; 1.0 0.0 … 0.0 0.0; 0.0 1.0 … 0.0 0.0; … ; 0.0 0.0 … 1.0 0.0; 0.0 0.0 … 0.0 1.0;;; 0.0 0.0 … 0.0 0.0; 0.0 0.0 … 0.0 0.0; … ; 0.0 0.0 … 0.0 0.0; 0.0 0.0 … 0.0 0.0;;; 1.0 0.0 … 0.0 0.0; 0.0 1.0 … 0.0 0.0; … ; 0.0 0.0 … 1.0 0.0; 0.0 0.0 … 0.0 1.0;;;; 1.0 0.0 … 0.0 0.0; 0.0 1.0 … 0.0 0.0; … ; 0.0 0.0 … 1.0 0.0; 0.0 0.0 … 0.0 1.0;;; 1.0 0.0 … 0.0 0.0; 0.0 1.0 … 0.0 0.0; … ; 0.0 0.0 … 1.0 0.0; 0.0 0.0 … 0.0 1.0;;; 0.0 0.0 … 0.0 0.0; 0.0 0.0 … 0.0 0.0; … ; 0.0 0.0 … 0.0 0.0; 0.0 0.0 … 0.0 0.0], Layer[Layer{SimpleGraph{Int64}}(:layer_1, {50, 78} undirected simple Int64 graph), Layer{MetaDiGraph{Int64, Float64}}(:layer_2, {50, 50} directed Int64 metagraph with Float64 weights defined by :weight (default weight 1.0)), Layer{MetaDiGraph{Int64, Float64}}(:layer_3, {50, 50} directed Int64 metagraph with Float64 weights defined by :weight (default weight 1.0))], InterLayer[InterLayer{SimpleWeightedDiGraph{Int64, Float64}}(:interlayer_2_1, :layer_2, :layer_1, {50, 50} directed simple Int64 graph with Float64 weights), InterLayer{SimpleWeightedDiGraph{Int64, Float64}}(:interlayer_3_1, :layer_3, :layer_1, {50, 50} directed simple Int64 graph with Float64 weights), InterLayer{SimpleWeightedDiGraph{Int64, Float64}}(:interlayer_1_2, :layer_1, :layer_2, {50, 50} directed simple Int64 graph with Float64 weights), InterLayer{SimpleWeightedDiGraph{Int64, Float64}}(:interlayer_3_2, :layer_3, :layer_2, {50, 50} directed simple Int64 graph with Float64 weights), InterLayer{SimpleWeightedDiGraph{Int64, Float64}}(:interlayer_1_3, :layer_1, :layer_3, {50, 50} directed simple Int64 graph with Float64 weights), InterLayer{SimpleWeightedDiGraph{Int64, Float64}}(:interlayer_2_3, :layer_2, :layer_3, {50, 50} directed simple Int64 graph with Float64 weights)])"
      ]
     },
     "metadata": {},
     "output_type": "display_data"
    }
   ],
   "source": [
    "multiplex_graph = MultiplexGraph(layers)"
   ]
  },
  {
   "cell_type": "markdown",
   "metadata": {},
   "source": [
    "Layers and interlayers can be accessed as they were objects"
   ]
  },
  {
   "cell_type": "code",
   "execution_count": 5,
   "metadata": {},
   "outputs": [
    {
     "data": {
      "text/plain": [
       "InterLayer{SimpleWeightedDiGraph{Int64, Float64}}(:interlayer_1_2, :layer_1, :layer_2, {50, 50} directed simple Int64 graph with Float64 weights)"
      ]
     },
     "metadata": {},
     "output_type": "display_data"
    }
   ],
   "source": [
    "multilayer_graph.layer_1\n",
    "multiplex_graph.interlayer_1_2"
   ]
  }
 ],
 "metadata": {
  "kernelspec": {
   "display_name": "Julia 1.7.1",
   "language": "julia",
   "name": "julia-1.7"
  },
  "language_info": {
   "file_extension": ".jl",
   "mimetype": "application/julia",
   "name": "julia",
   "version": "1.7.1"
  },
  "orig_nbformat": 4
 },
 "nbformat": 4,
 "nbformat_minor": 2
}
