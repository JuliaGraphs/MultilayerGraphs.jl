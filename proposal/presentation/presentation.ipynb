{
 "cells": [
  {
   "cell_type": "markdown",
   "metadata": {
    "slideshow": {
     "slide_type": "slide"
    }
   },
   "source": [
    "# MultilayerGraphs.jl: Multilayer Network Science in Julia\n",
    "\n",
    "<img align=\"right\" \n",
    "     width=\"1100\" height=\"1100\" \n",
    "     src=\"images/logo.png\"\n",
    "     alt=\"Logo of MultilayerGraphs.jl\">\n",
    "\n",
    "## Outline \n",
    "\n",
    "1⃣ Introduction<br>\n",
    "2⃣ Tutorial<br>\n",
    "3⃣ Future Developments\n",
    "\n",
    "## Resources \n",
    "\n",
    "📦 [Repository](https://github.com/JuliaGraphs/MultilayerGraphs.jl) <br>\n",
    "📄 [Documentation](https://juliagraphs.org/MultilayerGraphs.jl)\n",
    "\n",
    "## Speakers \n",
    "<br>\n",
    "<figure>\n",
    "    <a href=\"https://github.com/pitmonticone\">\n",
    "    <img align=\"left\" \n",
    "         width=\"120\" height=\"120\" \n",
    "         src=\"https://avatars.githubusercontent.com/u/38562595?v=4\"\n",
    "         alt=\"GitHub profile image of Pietro Monticone.\">  \n",
    "    </a>\n",
    "    <figcaption>\n",
    "        <br>&nbsp;&nbsp;Pietro Monticone\n",
    "    </figcaption>\n",
    "</figure>\n",
    "<br><br>\n",
    "<figure>\n",
    "    <a href=\"https://github.com/ClaudMor\">\n",
    "    <img align=\"left\" \n",
    "         width=\"120\" height=\"120\" \n",
    "         src=\"https://avatars.githubusercontent.com/u/43729990?v=4\"\n",
    "         alt=\"GitHub profile image of Claudio Moroni.\">\n",
    "    </a>\n",
    "    <figcaption>\n",
    "        <br>&nbsp;&nbsp;Claudio Moroni\n",
    "    </figcaption>\n",
    "</figure>"
   ]
  },
  {
   "cell_type": "markdown",
   "metadata": {
    "slideshow": {
     "slide_type": "slide"
    }
   },
   "source": [
    "# 1. Introduction"
   ]
  },
  {
   "cell_type": "markdown",
   "metadata": {
    "slideshow": {
     "slide_type": "subslide"
    }
   },
   "source": [
    "## Theory\n",
    "\n",
    "<figure>\n",
    "    <img align=\"left\" \n",
    "         width=\"1000\"\n",
    "         src=\"images/basics.png\">  \n",
    "    <img align=\"right\" \n",
    "         width=\"1100\" \n",
    "         src=\"images/types.png\">  \n",
    "    <figcaption>\n",
    "        <small>Figures from De Domenico (2022) https://doi.org/10.17605/osf.io/gy53k.\n",
    "        </small>\n",
    "    </figcaption>\n",
    "</figure>"
   ]
  },
  {
   "cell_type": "markdown",
   "metadata": {
    "slideshow": {
     "slide_type": "subslide"
    }
   },
   "source": [
    "## Applications\n",
    "\n",
    "<figure>\n",
    "    <img align=\"left\" \n",
    "         width=\"800\" height=\"800\"\n",
    "         src=\"images/Aleta2020-model.webp\">   \n",
    "    <img align=\"right\" \n",
    "         width=\"900\" height=\"900\"\n",
    "         src=\"images/Aleta2020-projections.webp\">\n",
    "    <figcaption>\n",
    "        <small><br><br>Figures from Aleta et al. (2020) https://doi.org/10.1038/s41562-020-0931-9.\n",
    "        </small>\n",
    "    </figcaption>\n",
    "</figure>"
   ]
  },
  {
   "cell_type": "markdown",
   "metadata": {
    "slideshow": {
     "slide_type": "slide"
    }
   },
   "source": [
    "# 2. Tutorial"
   ]
  },
  {
   "cell_type": "markdown",
   "metadata": {
    "slideshow": {
     "slide_type": "subslide"
    }
   },
   "source": [
    "## How to install"
   ]
  },
  {
   "cell_type": "code",
   "execution_count": 1,
   "metadata": {
    "scrolled": true,
    "slideshow": {
     "slide_type": "-"
    }
   },
   "outputs": [
    {
     "name": "stderr",
     "output_type": "stream",
     "text": [
      "\u001b[32m\u001b[1m    Updating\u001b[22m\u001b[39m registry at `~/.julia/registries/General.toml`\n",
      "\u001b[32m\u001b[1m   Resolving\u001b[22m\u001b[39m package versions...\n",
      "\u001b[32m\u001b[1m  No Changes\u001b[22m\u001b[39m to `~/GitHub/MultilayerGraphs.jl/proposal/presentation/Project.toml`\n",
      "\u001b[32m\u001b[1m  No Changes\u001b[22m\u001b[39m to `~/GitHub/MultilayerGraphs.jl/proposal/presentation/Manifest.toml`\n"
     ]
    }
   ],
   "source": [
    "# Import the package manager \n",
    "using Pkg\n",
    "\n",
    "# Install the package  \n",
    "Pkg.add(\"MultilayerGraphs\")"
   ]
  },
  {
   "cell_type": "markdown",
   "metadata": {
    "slideshow": {
     "slide_type": "subslide"
    }
   },
   "source": [
    "## How to use\n",
    "\n",
    "### Import"
   ]
  },
  {
   "cell_type": "code",
   "execution_count": 2,
   "metadata": {},
   "outputs": [],
   "source": [
    "# Import the package \n",
    "using MultilayerGraphs\n",
    "\n",
    "# Import necessary dependencies\n",
    "using Distributions, Graphs, SimpleValueGraphs"
   ]
  },
  {
   "cell_type": "markdown",
   "metadata": {
    "slideshow": {
     "slide_type": "subslide"
    }
   },
   "source": [
    "### Initialise "
   ]
  },
  {
   "cell_type": "code",
   "execution_count": 3,
   "metadata": {},
   "outputs": [
    {
     "data": {
      "text/plain": [
       "100-element Vector{Node}:\n",
       " Node(\"node_1\")\n",
       " Node(\"node_2\")\n",
       " Node(\"node_3\")\n",
       " Node(\"node_4\")\n",
       " Node(\"node_5\")\n",
       " Node(\"node_6\")\n",
       " Node(\"node_7\")\n",
       " Node(\"node_8\")\n",
       " Node(\"node_9\")\n",
       " Node(\"node_10\")\n",
       " Node(\"node_11\")\n",
       " Node(\"node_12\")\n",
       " Node(\"node_13\")\n",
       " ⋮\n",
       " Node(\"node_89\")\n",
       " Node(\"node_90\")\n",
       " Node(\"node_91\")\n",
       " Node(\"node_92\")\n",
       " Node(\"node_93\")\n",
       " Node(\"node_94\")\n",
       " Node(\"node_95\")\n",
       " Node(\"node_96\")\n",
       " Node(\"node_97\")\n",
       " Node(\"node_98\")\n",
       " Node(\"node_99\")\n",
       " Node(\"node_100\")"
      ]
     },
     "execution_count": 3,
     "metadata": {},
     "output_type": "execute_result"
    }
   ],
   "source": [
    "# Set the number of nodes\n",
    "n_nodes = 100 \n",
    "\n",
    "# Create a list of nodes\n",
    "node_list = [Node(\"node_$i\") for i in 1:n_nodes]"
   ]
  },
  {
   "cell_type": "markdown",
   "metadata": {
    "slideshow": {
     "slide_type": "subslide"
    }
   },
   "source": [
    "### Layers "
   ]
  },
  {
   "cell_type": "code",
   "execution_count": 4,
   "metadata": {
    "slideshow": {
     "slide_type": "-"
    }
   },
   "outputs": [
    {
     "name": "stderr",
     "output_type": "stream",
     "text": [
      "\u001b[36m\u001b[1m[ \u001b[22m\u001b[39m\u001b[36m\u001b[1mInfo: \u001b[22m\u001b[39mTrying to sample a digraphical sequence from the two provided distributions Truncated(Normal{Float64}(μ=5.0, σ=5.0); lower=0.0, upper=20.0) and Truncated(Normal{Float64}(μ=5.0, σ=5.0); lower=0.0, upper=20.0)...\n"
     ]
    },
    {
     "data": {
      "text/plain": [
       "Layer\tlayer_simple_directed\n",
       "underlying_graph: SimpleDiGraph{Int64}\n",
       "vertex type: Int64\n",
       "weight type: Float64 \n",
       "nv = 16\n",
       "ne = 122\n"
      ]
     },
     "execution_count": 4,
     "metadata": {},
     "output_type": "execute_result"
    }
   ],
   "source": [
    "# Create a simple directed layer\n",
    "n_vertices = rand(1:100)                          # Number of vertices \n",
    "layer_simple_directed = layer_simpledigraph(      # Layer constructor \n",
    "    :layer_simple_directed,                       # Layer name\n",
    "    sample(node_list, n_vertices; replace=false), # Nodes represented in the layer\n",
    "    Truncated(Normal(5, 5), 0, 20),               # Indegree sequence distribution \n",
    "    Truncated(Normal(5, 5), 0, 20)                # Outdegree sequence distribution\n",
    ")"
   ]
  },
  {
   "cell_type": "code",
   "execution_count": 5,
   "metadata": {
    "slideshow": {
     "slide_type": "-"
    }
   },
   "outputs": [
    {
     "data": {
      "text/plain": [
       "Layer\tlayer_simple_directed_weighted\n",
       "underlying_graph: SimpleWeightedGraphs.SimpleWeightedDiGraph{Int64, Float64}\n",
       "vertex type: Int64\n",
       "weight type: Float64 \n",
       "nv = 32\n",
       "ne = 943\n"
      ]
     },
     "execution_count": 5,
     "metadata": {},
     "output_type": "execute_result"
    }
   ],
   "source": [
    "# Create a simple directed weighted layer\n",
    "n_vertices = rand(1:n_nodes)                                   # Number of vertices \n",
    "n_edges = rand(n_vertices:(n_vertices * (n_vertices - 1) - 1)) # Number of edges \n",
    "layer_simple_directed_weighted = layer_simpleweighteddigraph(  # Layer constructor \n",
    "    :layer_simple_directed_weighted,                           # Layer name\n",
    "    sample(node_list, n_vertices; replace=false),              # Nodes represented in the layer\n",
    "    n_edges;                                                   # Number of randomly distributed edges\n",
    "    default_edge_weight=(src, dst) -> rand()                   # Function assigning weights to edges \n",
    ")"
   ]
  },
  {
   "cell_type": "code",
   "execution_count": 6,
   "metadata": {
    "slideshow": {
     "slide_type": "subslide"
    }
   },
   "outputs": [
    {
     "data": {
      "text/plain": [
       "Layer\tlayer_simple_directed_value\n",
       "underlying_graph: ValDiGraph{Int64, Tuple{String}, Tuple{Float64}, Tuple{}, Tuple{Vector{String}}, Tuple{Vector{Vector{Float64}}}}\n",
       "vertex type: Int64\n",
       "weight type: Float64 \n",
       "nv = 4\n",
       "ne = 7\n"
      ]
     },
     "execution_count": 6,
     "metadata": {},
     "output_type": "execute_result"
    }
   ],
   "source": [
    "# Create a simple directed value layer\n",
    "n_vertices = rand(1:n_nodes)                                   # Number of vertices \n",
    "n_edges = rand(n_vertices:(n_vertices * (n_vertices - 1) - 1)) # Number of edges \n",
    "default_vertex_metadata = v -> (\"vertex_$(v)_metadata\",)       # Vertex metadata \n",
    "default_edge_metadata = (s, d) -> (rand(),)                    # Edge metadata \n",
    "layer_simple_directed_value = Layer(                           # Layer constructor\n",
    "    :layer_simple_directed_value,                              # Layer name\n",
    "    sample(node_list, n_vertices; replace=false),              # Nodes represented in the layer\n",
    "    n_edges,                                                   # Number of randomly distributed edges\n",
    "    ValDiGraph(                                                \n",
    "        SimpleDiGraph{Int64}(); \n",
    "        vertexval_types=(String,),\n",
    "        vertexval_init=default_vertex_metadata,\n",
    "        edgeval_types=(Float64,),\n",
    "        edgeval_init=default_edge_metadata,\n",
    "    ),\n",
    "    Float64;\n",
    "    default_vertex_metadata=default_vertex_metadata,           # Vertex metadata \n",
    "    default_edge_metadata=default_edge_metadata                # Edge metadata \n",
    ")"
   ]
  },
  {
   "cell_type": "code",
   "execution_count": 7,
   "metadata": {
    "scrolled": true,
    "slideshow": {
     "slide_type": "subslide"
    }
   },
   "outputs": [
    {
     "data": {
      "text/plain": [
       "3-element Vector{Layer{Int64, Float64, G} where G<:AbstractGraph{Int64}}:\n",
       " Layer\tlayer_simple_directed\n",
       "underlying_graph: SimpleDiGraph{Int64}\n",
       "vertex type: Int64\n",
       "weight type: Float64 \n",
       "nv = 16\n",
       "ne = 122\n",
       "\n",
       " Layer\tlayer_simple_directed_weighted\n",
       "underlying_graph: SimpleWeightedGraphs.SimpleWeightedDiGraph{Int64, Float64}\n",
       "vertex type: Int64\n",
       "weight type: Float64 \n",
       "nv = 32\n",
       "ne = 943\n",
       "\n",
       " Layer\tlayer_simple_directed_value\n",
       "underlying_graph: ValDiGraph{Int64, Tuple{String}, Tuple{Float64}, Tuple{}, Tuple{Vector{String}}, Tuple{Vector{Vector{Float64}}}}\n",
       "vertex type: Int64\n",
       "weight type: Float64 \n",
       "nv = 4\n",
       "ne = 7\n"
      ]
     },
     "execution_count": 7,
     "metadata": {},
     "output_type": "execute_result"
    }
   ],
   "source": [
    "# Create a list of layers \n",
    "layers = [layer_simple_directed, layer_simple_directed_weighted, layer_simple_directed_value]"
   ]
  },
  {
   "cell_type": "markdown",
   "metadata": {
    "slideshow": {
     "slide_type": "subslide"
    }
   },
   "source": [
    "### Interlayers "
   ]
  },
  {
   "cell_type": "code",
   "execution_count": 8,
   "metadata": {
    "slideshow": {
     "slide_type": "-"
    }
   },
   "outputs": [
    {
     "data": {
      "text/plain": [
       "Interlayer\tinterlayer_layer_simple_directed_layer_simple_directed_weighted\n",
       "layer_1: layer_simple_directed\n",
       "layer_2: layer_simple_directed_weighted\n",
       "underlying graph: SimpleDiGraph{Int64}\n",
       "vertex type : Int64 \n",
       "weight type : Float64 \n",
       "nv : 48\n",
       "ne : 6\n"
      ]
     },
     "execution_count": 8,
     "metadata": {},
     "output_type": "execute_result"
    }
   ],
   "source": [
    "# Create a simple directed interlayer\n",
    "n_vertices_1 = nv(layer_simple_directed)               # Number of vertices of layer 1\n",
    "n_vertices_2 = nv(layer_simple_directed_weighted)      # Number of vertices of layer 2\n",
    "n_edges = rand(1:(n_vertices_1 * n_vertices_2 - 1))    # Number of interlayer edges \n",
    "interlayer_simple_directed = interlayer_simpledigraph( # Interlayer constructor \n",
    "    layer_simple_directed,                             # Layer 1 \n",
    "    layer_simple_directed_weighted,                    # Layer 2 \n",
    "    n_edges                                            # Number of edges \n",
    ")"
   ]
  },
  {
   "cell_type": "code",
   "execution_count": 9,
   "metadata": {
    "slideshow": {
     "slide_type": "-"
    }
   },
   "outputs": [
    {
     "data": {
      "text/plain": [
       "Interlayer\tinterlayer_layer_simple_directed_weighted_layer_simple_directed_value\n",
       "layer_1: layer_simple_directed_weighted\n",
       "layer_2: layer_simple_directed_value\n",
       "underlying graph: MetaGraphs.MetaDiGraph{Int64, Float64}\n",
       "vertex type : Int64 \n",
       "weight type : Float64 \n",
       "nv : 36\n",
       "ne : 81\n"
      ]
     },
     "execution_count": 9,
     "metadata": {},
     "output_type": "execute_result"
    }
   ],
   "source": [
    "# Create a simple directed meta interlayer \n",
    "n_vertices_1 = nv(layer_simple_directed_weighted)   # Number of vertices of layer 1\n",
    "n_vertices_2 = nv(layer_simple_directed_value)      # Number of vertices of layer 2\n",
    "n_edges = rand(1:(n_vertices_1 * n_vertices_2 - 1)) # Number of interlayer edges \n",
    "interlayer_simple_directed_meta = interlayer_metadigraph( # Interlayer constructor\n",
    "    layer_simple_directed_weighted,                       # Layer 1 \n",
    "    layer_simple_directed_value,                          # Layer 2\n",
    "    n_edges;                                              # Number of edges\n",
    "    default_edge_metadata=(src, dst) ->                   # Edge metadata \n",
    "        (edge_metadata=\"metadata_of_edge_from_$(src)_to_$(dst)\",),\n",
    "    transfer_vertex_metadata=true # Boolean deciding layer vertex metadata inheritance\n",
    ")"
   ]
  },
  {
   "cell_type": "code",
   "execution_count": 10,
   "metadata": {
    "slideshow": {
     "slide_type": "subslide"
    }
   },
   "outputs": [
    {
     "data": {
      "text/plain": [
       "2-element Vector{Interlayer{Int64, Float64, G} where G<:AbstractGraph{Int64}}:\n",
       " Interlayer\tinterlayer_layer_simple_directed_layer_simple_directed_weighted\n",
       "layer_1: layer_simple_directed\n",
       "layer_2: layer_simple_directed_weighted\n",
       "underlying graph: SimpleDiGraph{Int64}\n",
       "vertex type : Int64 \n",
       "weight type : Float64 \n",
       "nv : 48\n",
       "ne : 6\n",
       "\n",
       " Interlayer\tinterlayer_layer_simple_directed_weighted_layer_simple_directed_value\n",
       "layer_1: layer_simple_directed_weighted\n",
       "layer_2: layer_simple_directed_value\n",
       "underlying graph: MetaGraphs.MetaDiGraph{Int64, Float64}\n",
       "vertex type : Int64 \n",
       "weight type : Float64 \n",
       "nv : 36\n",
       "ne : 81\n"
      ]
     },
     "execution_count": 10,
     "metadata": {},
     "output_type": "execute_result"
    }
   ],
   "source": [
    "# Create a list of interlayers \n",
    "interlayers = [interlayer_simple_directed, interlayer_simple_directed_meta]"
   ]
  },
  {
   "cell_type": "markdown",
   "metadata": {
    "slideshow": {
     "slide_type": "subslide"
    }
   },
   "source": [
    "### Multilayer Graphs "
   ]
  },
  {
   "cell_type": "code",
   "execution_count": 11,
   "metadata": {
    "scrolled": true,
    "slideshow": {
     "slide_type": "-"
    }
   },
   "outputs": [
    {
     "data": {
      "text/plain": [
       "`MultilayerDiGraph` with vertex type `Int64` and weight type `Float64`.\n",
       "\n",
       "### LAYERS\n",
       "┌────────────────────────────────┬──────────────────────────────────────────────────────────────────────────────────────────────────────────────────┐\n",
       "│              NAME              │                                                 UNDERLYING GRAPH                                                 │\n",
       "├────────────────────────────────┼──────────────────────────────────────────────────────────────────────────────────────────────────────────────────┤\n",
       "│     layer_simple_directed      │                                               SimpleDiGraph{Int64}                                               │\n",
       "├────────────────────────────────┼──────────────────────────────────────────────────────────────────────────────────────────────────────────────────┤\n",
       "│ layer_simple_directed_weighted │                                      SimpleWeightedDiGraph{Int64, Float64}                                       │\n",
       "├────────────────────────────────┼──────────────────────────────────────────────────────────────────────────────────────────────────────────────────┤\n",
       "│  layer_simple_directed_value   │ ValDiGraph{Int64, Tuple{String}, Tuple{Float64}, Tuple{}, Tuple{Vector{String}}, Tuple{Vector{Vector{Float64}}}} │\n",
       "└────────────────────────────────┴──────────────────────────────────────────────────────────────────────────────────────────────────────────────────┘\n",
       "\n",
       "\n",
       "### INTERLAYERS\n",
       "┌───────────────────────────────────────────────────────────────────────┬────────────────────────────────┬────────────────────────────────┬─────────────────────────────┬──────────────────────────┐\n",
       "│                                 NAME                                  │            LAYER 1             │            LAYER 2             │      UNDERLYING GRAPH       │ TRANSFER VERTEX METADATA │\n",
       "├───────────────────────────────────────────────────────────────────────┼────────────────────────────────┼────────────────────────────────┼─────────────────────────────┼──────────────────────────┤\n",
       "│    interlayer_layer_simple_directed_layer_simple_directed_weighted    │     layer_simple_directed      │ layer_simple_directed_weighted │    SimpleDiGraph{Int64}     │          false           │\n",
       "├───────────────────────────────────────────────────────────────────────┼────────────────────────────────┼────────────────────────────────┼─────────────────────────────┼──────────────────────────┤\n",
       "│     interlayer_layer_simple_directed_value_layer_simple_directed      │  layer_simple_directed_value   │     layer_simple_directed      │     SimpleGraph{Int64}      │          false           │\n",
       "├───────────────────────────────────────────────────────────────────────┼────────────────────────────────┼────────────────────────────────┼─────────────────────────────┼──────────────────────────┤\n",
       "│ interlayer_layer_simple_directed_weighted_layer_simple_directed_value │ layer_simple_directed_weighted │  layer_simple_directed_value   │ MetaDiGraph{Int64, Float64} │           true           │\n",
       "└───────────────────────────────────────────────────────────────────────┴────────────────────────────────┴────────────────────────────────┴─────────────────────────────┴──────────────────────────┘\n",
       "\n"
      ]
     },
     "execution_count": 11,
     "metadata": {},
     "output_type": "execute_result"
    }
   ],
   "source": [
    "# Create a simple directed multilayer graph\n",
    "multilayerdigraph = MultilayerDiGraph( # Constructor \n",
    "    layers,                            # The (ordered) collection of layers\n",
    "    interlayers;                       # The manually specified interlayers\n",
    "                                       # The interlayers that are left unspecified \n",
    "                                       # will be automatically inserted according \n",
    "                                       # to the keyword argument below\n",
    "    default_interlayers_structure=\"multiplex\" \n",
    "    # The automatically specified interlayers will have only diagonal couplings\n",
    ")"
   ]
  },
  {
   "cell_type": "code",
   "execution_count": 12,
   "metadata": {
    "scrolled": false,
    "slideshow": {
     "slide_type": "subslide"
    }
   },
   "outputs": [
    {
     "data": {
      "text/plain": [
       "Layer\tlayer_simple_directed_value\n",
       "underlying_graph: ValDiGraph{Int64, Tuple{String}, Tuple{Float64}, Tuple{}, Tuple{Vector{String}}, Tuple{Vector{Vector{Float64}}}}\n",
       "vertex type: Int64\n",
       "weight type: Float64 \n",
       "nv = 4\n",
       "ne = 7\n"
      ]
     },
     "execution_count": 12,
     "metadata": {},
     "output_type": "execute_result"
    }
   ],
   "source": [
    "# Layers and interlayer can be accessed as properties using their names\n",
    "multilayerdigraph.layer_simple_directed_value"
   ]
  },
  {
   "cell_type": "code",
   "execution_count": 13,
   "metadata": {
    "slideshow": {
     "slide_type": "subslide"
    }
   },
   "outputs": [
    {
     "data": {
      "text/plain": [
       "true"
      ]
     },
     "execution_count": 13,
     "metadata": {},
     "output_type": "execute_result"
    }
   ],
   "source": [
    "# Create a node \n",
    "new_node_1 = Node(\"new_node_1\")\n",
    "\n",
    "# Add the node to the multilayer graph \n",
    "add_node!(multilayerdigraph, new_node_1)\n",
    "\n",
    "# Create a vertex representing the node \n",
    "new_vertex_1 = MV(                 # Constructor (alias for \"MultilayerVertex\")\n",
    "    new_node_1,                    # Node represented by the vertex\n",
    "    :layer_simple_directed_value,  # Layer containing the vertex \n",
    "    (\"new_metadata\",)              # Vertex metadata \n",
    ")\n",
    "\n",
    "# Add the vertex \n",
    "add_vertex!(\n",
    "    multilayerdigraph,       # MultilayerDiGraph the vertex will be added to\n",
    "    new_vertex_1             # MultilayerVertex to add\n",
    ")"
   ]
  },
  {
   "cell_type": "code",
   "execution_count": 14,
   "metadata": {
    "slideshow": {
     "slide_type": "-"
    }
   },
   "outputs": [
    {
     "data": {
      "text/plain": [
       "true"
      ]
     },
     "execution_count": 14,
     "metadata": {},
     "output_type": "execute_result"
    }
   ],
   "source": [
    "# Create another node in another layer \n",
    "new_node_2 = Node(\"new_node_2\")\n",
    "\n",
    "# Create another vertex representing the new node\n",
    "new_vertex_2 = MV(new_node_2, :layer_simple_directed)\n",
    "\n",
    "# Add the new vertex\n",
    "add_vertex!(\n",
    "    multilayerdigraph,\n",
    "    new_vertex_2;\n",
    "    add_node=true # Add the associated node before adding the vertex\n",
    ")"
   ]
  },
  {
   "cell_type": "code",
   "execution_count": 15,
   "metadata": {
    "slideshow": {
     "slide_type": "subslide"
    }
   },
   "outputs": [
    {
     "data": {
      "text/plain": [
       "true"
      ]
     },
     "execution_count": 15,
     "metadata": {},
     "output_type": "execute_result"
    }
   ],
   "source": [
    "# Create an edge \n",
    "new_edge = MultilayerEdge(  # Constructor \n",
    "    new_vertex_1,           # Source vertex\n",
    "    new_vertex_2,           # Destination vertex \n",
    "    (\"some_edge_metadata\",) # Edge metadata \n",
    ")\n",
    "\n",
    "# Add the edge \n",
    "add_edge!(\n",
    "    multilayerdigraph,      # MultilayerDiGraph the edge will be added to\n",
    "    new_edge                # MultilayerVertex to add\n",
    ")"
   ]
  },
  {
   "cell_type": "markdown",
   "metadata": {
    "slideshow": {
     "slide_type": "subslide"
    }
   },
   "source": [
    "### Metrics"
   ]
  },
  {
   "cell_type": "code",
   "execution_count": 16,
   "metadata": {
    "slideshow": {
     "slide_type": "-"
    }
   },
   "outputs": [
    {
     "data": {
      "text/plain": [
       "0.4432482798723233"
      ]
     },
     "execution_count": 16,
     "metadata": {},
     "output_type": "execute_result"
    }
   ],
   "source": [
    "# Compute the global clustering coefficient\n",
    "multilayer_global_clustering_coefficient(multilayerdigraph) "
   ]
  },
  {
   "cell_type": "code",
   "execution_count": 17,
   "metadata": {},
   "outputs": [
    {
     "data": {
      "text/plain": [
       "0.05839546573045176"
      ]
     },
     "execution_count": 17,
     "metadata": {},
     "output_type": "execute_result"
    }
   ],
   "source": [
    "# Compute the overlay clustering coefficient\n",
    "overlay_clustering_coefficient(multilayerdigraph)"
   ]
  },
  {
   "cell_type": "code",
   "execution_count": 18,
   "metadata": {},
   "outputs": [
    {
     "data": {
      "text/plain": [
       "([0.0001615648246767147, 0.0016428656029373043, 0.0008733919759777302, 4.247647671828347e-5, 0.0017964320088962816, 0.0008962354244679003, 0.0002749448684886378, 0.0030622089750438524, 6.686348702261893e-5, 0.0001615648246767147  …  0.02391716214902976, 0.02913306599211876, 0.027813541793016858, 0.025364318431702955, 0.02331081195930945, 0.02265120426206316, 0.017410851074113103, 0.025511202666943802, 0.0, 0.0], [137.15996294587745, 0.9064083417773932, 0.36636763829525354, 0.14597074611315802, 0.0592364598613131, 0.02430058008955144, 0.010031755711587112, 0.004155544943326636, 0.0017234506504221632, 0.0007151345389146655, 0.0002968154744035006, 0.00012320478826840646, 5.114279848568426e-5, 2.1229915093391846e-5, 8.81282538163047e-6, 3.6583338888421094e-6, 1.5186301107745874e-6, 6.304067836298915e-7])"
      ]
     },
     "execution_count": 18,
     "metadata": {},
     "output_type": "execute_result"
    }
   ],
   "source": [
    "# Compute the multilayer eigenvector centrality \n",
    "eigenvector_centrality(multilayerdigraph)"
   ]
  },
  {
   "cell_type": "code",
   "execution_count": 19,
   "metadata": {},
   "outputs": [
    {
     "data": {
      "text/plain": [
       "-0.6272794044269121"
      ]
     },
     "execution_count": 19,
     "metadata": {},
     "output_type": "execute_result"
    }
   ],
   "source": [
    "# Compute the multilayer modularity \n",
    "modularity(\n",
    "    multilayerdigraph,\n",
    "    rand([1, 2, 3, 4], length(nodes(multilayerdigraph)), length(multilayerdigraph.layers))\n",
    ")"
   ]
  },
  {
   "cell_type": "markdown",
   "metadata": {
    "slideshow": {
     "slide_type": "slide"
    }
   },
   "source": [
    "# 3. Future Developments "
   ]
  },
  {
   "cell_type": "markdown",
   "metadata": {
    "slideshow": {
     "slide_type": "subslide"
    }
   },
   "source": [
    "- Add functionality to **import/export** multilayer network data in various formats;\n",
    "- Add functionality for **data visualisation** (or develop a new package); \n",
    "- Add **coverage evolution** of multilayer graphs (e.g. see [De Domenico (2014)](https://doi.org/10.1073/pnas.1318469111)); \n",
    "- Add multilayer **community detection** algorithms (e.g. see [De Domenico et al. (2015)](https://doi.org/10.1103/PhysRevX.5.011027)); \n",
    "- Add **Laplacian matrix**; \n",
    "- Add **components** (e.g. connected, giant connected, giant intersection, giant viable);\n",
    "- Add **multiplexity dimensions** (aspects);\n",
    "- Add more **global descriptors** (e.g. see [De Domenico (2013)](https://doi.org/10.1103/PhysRevX.3.041022));\n",
    "- Add more multilayer **centralities** (e.g. see [De Domenico et al. (2015)](https://doi.org/10.1038/ncomms7868));\n",
    "- Improve integration with [Agents.jl](https://github.com/JuliaDynamics/Agents.jl);\n",
    "- ...\n",
    "\n",
    "For further information regarding the future developments of **MultilayerGraphs.jl** we invite you to consult the related [issues](https://github.com/JuliaGraphs/MultilayerGraphs.jl/issues)."
   ]
  },
  {
   "cell_type": "markdown",
   "metadata": {
    "slideshow": {
     "slide_type": "slide"
    }
   },
   "source": [
    "# Thanks for your attention! 🙏\n",
    "\n",
    "<img align=\"right\" \n",
    "     width=\"1100\" height=\"1100\" \n",
    "     src=\"https://github.com/JuliaGraphs/MultilayerGraphs.jl/blob/main/docs/src/assets/logo.png?raw=true\"\n",
    "     alt=\"Logo of MultilayerGraphs.jl\">\n",
    "\n",
    "## Outline \n",
    "\n",
    "1⃣ Introduction<br>\n",
    "2⃣ Tutorial<br>\n",
    "3⃣ Future Developments\n",
    "\n",
    "## Resources \n",
    "\n",
    "📦 [Repository](https://github.com/JuliaGraphs/MultilayerGraphs.jl) <br>\n",
    "📄 [Documentation](https://juliagraphs.org/MultilayerGraphs.jl)\n",
    "\n",
    "## Speakers \n",
    "<br>\n",
    "<figure>\n",
    "    <a href=\"https://github.com/ClaudMor\">\n",
    "    <img align=\"left\" \n",
    "         width=\"120\" height=\"120\" \n",
    "         src=\"https://avatars.githubusercontent.com/u/43729990?v=4\"\n",
    "         alt=\"GitHub profile image of Claudio Moroni.\">\n",
    "    </a>\n",
    "    <figcaption>\n",
    "        <br>&nbsp;&nbsp;Claudio Moroni\n",
    "    </figcaption>\n",
    "</figure>\n",
    "<br><br>\n",
    "<figure>\n",
    "    <a href=\"https://github.com/pitmonticone\">\n",
    "    <img align=\"left\" \n",
    "         width=\"120\" height=\"120\" \n",
    "         src=\"https://avatars.githubusercontent.com/u/38562595?v=4\"\n",
    "         alt=\"GitHub profile image of Pietro Monticone.\">  \n",
    "    </a>\n",
    "    <figcaption>\n",
    "        <br>&nbsp;&nbsp;Pietro Monticone\n",
    "    </figcaption>\n",
    "</figure>"
   ]
  }
 ],
 "metadata": {
  "celltoolbar": "Slideshow",
  "kernelspec": {
   "display_name": "Julia 1.8.2",
   "language": "julia",
   "name": "julia-1.8"
  },
  "language_info": {
   "file_extension": ".jl",
   "mimetype": "application/julia",
   "name": "julia",
   "version": "1.8.2"
  }
 },
 "nbformat": 4,
 "nbformat_minor": 2
}
