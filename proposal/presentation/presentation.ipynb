{
 "cells": [
  {
   "cell_type": "markdown",
   "metadata": {
    "slideshow": {
     "slide_type": "slide"
    }
   },
   "source": [
    "# MultilayerGraphs.jl: Multilayer Network Science in Julia\n",
    "\n",
    "<img align=\"right\" \n",
    "     width=\"1100\" height=\"1100\" \n",
    "     src=\"images/logo.png\"\n",
    "     alt=\"Logo of MultilayerGraphs.jl\">\n",
    "\n",
    "## Outline \n",
    "\n",
    "1⃣ Introduction<br>\n",
    "2⃣ Tutorial<br>\n",
    "3⃣ Future Developments\n",
    "\n",
    "## Resources \n",
    "\n",
    "📦 [Repository](https://github.com/JuliaGraphs/MultilayerGraphs.jl) <br>\n",
    "📄 [Documentation](https://juliagraphs.org/MultilayerGraphs.jl)\n",
    "\n",
    "## Speakers \n",
    "<br>\n",
    "<figure>\n",
    "    <a href=\"https://github.com/pitmonticone\">\n",
    "    <img align=\"left\" \n",
    "         width=\"120\" height=\"120\" \n",
    "         src=\"https://avatars.githubusercontent.com/u/38562595?v=4\"\n",
    "         alt=\"GitHub profile image of Pietro Monticone.\">  \n",
    "    </a>\n",
    "    <figcaption>\n",
    "        <br>&nbsp;&nbsp;Pietro Monticone\n",
    "    </figcaption>\n",
    "</figure>\n",
    "<br><br>\n",
    "<figure>\n",
    "    <a href=\"https://github.com/ClaudMor\">\n",
    "    <img align=\"left\" \n",
    "         width=\"120\" height=\"120\" \n",
    "         src=\"https://avatars.githubusercontent.com/u/43729990?v=4\"\n",
    "         alt=\"GitHub profile image of Claudio Moroni.\">\n",
    "    </a>\n",
    "    <figcaption>\n",
    "        <br>&nbsp;&nbsp;Claudio Moroni\n",
    "    </figcaption>\n",
    "</figure>"
   ]
  },
  {
   "cell_type": "markdown",
   "metadata": {
    "slideshow": {
     "slide_type": "slide"
    }
   },
   "source": [
    "# 1. Introduction"
   ]
  },
  {
   "cell_type": "markdown",
   "metadata": {
    "slideshow": {
     "slide_type": "subslide"
    }
   },
   "source": [
    "## Theory\n",
    "\n",
    "<figure>\n",
    "    <img align=\"left\" \n",
    "         width=\"1000\"\n",
    "         src=\"images/basics.png\">  \n",
    "    <img align=\"right\" \n",
    "         width=\"1100\" \n",
    "         src=\"images/types.png\">  \n",
    "    <figcaption>\n",
    "        <small>Figures from De Domenico (2022) https://doi.org/10.17605/osf.io/gy53k.\n",
    "        </small>\n",
    "    </figcaption>\n",
    "</figure>"
   ]
  },
  {
   "cell_type": "markdown",
   "metadata": {
    "slideshow": {
     "slide_type": "subslide"
    }
   },
   "source": [
    "## Applications\n",
    "\n",
    "<figure>\n",
    "    <img align=\"left\" \n",
    "         width=\"800\" height=\"800\"\n",
    "         src=\"images/Aleta2020-model.webp\">   \n",
    "    <img align=\"right\" \n",
    "         width=\"900\" height=\"900\"\n",
    "         src=\"images/Aleta2020-projections.webp\">\n",
    "    <figcaption>\n",
    "        <small><br><br>Figures from Aleta et al. (2020) https://doi.org/10.1038/s41562-020-0931-9.\n",
    "        </small>\n",
    "    </figcaption>\n",
    "</figure>"
   ]
  },
  {
   "cell_type": "markdown",
   "metadata": {
    "slideshow": {
     "slide_type": "slide"
    }
   },
   "source": [
    "# 2. Tutorial"
   ]
  },
  {
   "cell_type": "markdown",
   "metadata": {
    "slideshow": {
     "slide_type": "subslide"
    }
   },
   "source": [
    "## How to install"
   ]
  },
  {
   "cell_type": "code",
   "execution_count": null,
   "metadata": {
    "scrolled": true,
    "slideshow": {
     "slide_type": "-"
    }
   },
   "outputs": [],
   "source": [
    "# Import the package manager \n",
    "using Pkg\n",
    "\n",
    "# Install the package  \n",
    "Pkg.add(\"MultilayerGraphs\")"
   ]
  },
  {
   "cell_type": "markdown",
   "metadata": {
    "slideshow": {
     "slide_type": "subslide"
    }
   },
   "source": [
    "## How to use\n",
    "\n",
    "### Import"
   ]
  },
  {
   "cell_type": "code",
   "execution_count": null,
   "metadata": {},
   "outputs": [],
   "source": [
    "# Import the package \n",
    "using MultilayerGraphs\n",
    "\n",
    "# Import necessary dependencies\n",
    "using Distributions, Graphs, SimpleValueGraphs"
   ]
  },
  {
   "cell_type": "markdown",
   "metadata": {
    "slideshow": {
     "slide_type": "subslide"
    }
   },
   "source": [
    "### Initialise "
   ]
  },
  {
   "cell_type": "code",
   "execution_count": null,
   "metadata": {},
   "outputs": [],
   "source": [
    "# Set the number of nodes\n",
    "n_nodes = 100 \n",
    "\n",
    "# Create a list of nodes\n",
    "node_list = [Node(\"node_$i\") for i in 1:n_nodes]"
   ]
  },
  {
   "cell_type": "markdown",
   "metadata": {
    "slideshow": {
     "slide_type": "subslide"
    }
   },
   "source": [
    "### Layers "
   ]
  },
  {
   "cell_type": "code",
   "execution_count": null,
   "metadata": {
    "slideshow": {
     "slide_type": "-"
    }
   },
   "outputs": [],
   "source": [
    "# Create a simple directed layer\n",
    "n_vertices = rand(1:100)                          # Number of vertices \n",
    "layer_simple_directed = layer_simpledigraph(      # Layer constructor \n",
    "    :layer_simple_directed,                       # Layer name\n",
    "    sample(node_list, n_vertices; replace=false), # Nodes represented in the layer\n",
    "    Truncated(Normal(5, 5), 0, 20),               # Indegree sequence distribution \n",
    "    Truncated(Normal(5, 5), 0, 20)                # Outdegree sequence distribution\n",
    ")"
   ]
  },
  {
   "cell_type": "code",
   "execution_count": null,
   "metadata": {
    "slideshow": {
     "slide_type": "-"
    }
   },
   "outputs": [],
   "source": [
    "# Create a simple directed weighted layer\n",
    "n_vertices = rand(1:n_nodes)                                   # Number of vertices \n",
    "n_edges = rand(n_vertices:(n_vertices * (n_vertices - 1) - 1)) # Number of edges \n",
    "layer_simple_directed_weighted = layer_simpleweighteddigraph(  # Layer constructor \n",
    "    :layer_simple_directed_weighted,                           # Layer name\n",
    "    sample(node_list, n_vertices; replace=false),              # Nodes represented in the layer\n",
    "    n_edges;                                                   # Number of randomly distributed edges\n",
    "    default_edge_weight=(src, dst) -> rand()                   # Function assigning weights to edges \n",
    ")"
   ]
  },
  {
   "cell_type": "code",
   "execution_count": null,
   "metadata": {
    "slideshow": {
     "slide_type": "subslide"
    }
   },
   "outputs": [],
   "source": [
    "# Create a simple directed value layer\n",
    "n_vertices = rand(1:n_nodes)                                   # Number of vertices \n",
    "n_edges = rand(n_vertices:(n_vertices * (n_vertices - 1) - 1)) # Number of edges \n",
    "default_vertex_metadata = v -> (\"vertex_$(v)_metadata\")        # Vertex metadata \n",
    "default_edge_metadata = (s, d) -> (rand(),)                    # Edge metadata \n",
    "layer_simple_directed_value = Layer(                           # Layer constructor\n",
    "    :layer_simple_directed_value,                              # Layer name\n",
    "    sample(node_list, n_vertices; replace=false),              # Nodes represented in the layer\n",
    "    n_edges,                                                   # Number of randomly distributed edges\n",
    "    ValDiGraph(                                                \n",
    "        SimpleDiGraph{Int64}(); \n",
    "        vertexval_types=(String,),\n",
    "        vertexval_init=default_vertex_metadata,\n",
    "        edgeval_types=(Float64,),\n",
    "        edgeval_init=default_edge_metadata,\n",
    "    ),\n",
    "    Float64;\n",
    "    default_vertex_metadata=default_vertex_metadata,           # Vertex metadata \n",
    "    default_edge_metadata=default_edge_metadata                # Edge metadata \n",
    ");"
   ]
  },
  {
   "cell_type": "code",
   "execution_count": null,
   "metadata": {
    "scrolled": true
   },
   "outputs": [],
   "source": [
    "# Create a list of layers \n",
    "layers = [layer_simple_directed, layer_simple_directed_weighted, layer_simple_directed_value]"
   ]
  },
  {
   "cell_type": "markdown",
   "metadata": {
    "slideshow": {
     "slide_type": "subslide"
    }
   },
   "source": [
    "### Interlayers "
   ]
  },
  {
   "cell_type": "code",
   "execution_count": null,
   "metadata": {
    "slideshow": {
     "slide_type": "-"
    }
   },
   "outputs": [],
   "source": [
    "# Create a simple directed interlayer\n",
    "n_vertices_1 = nv(layer_simple_directed)               # Number of vertices of layer 1\n",
    "n_vertices_2 = nv(layer_simple_directed_weighted)      # Number of vertices of layer 2\n",
    "n_edges = rand(1:(n_vertices_1 * n_vertices_2 - 1))    # Number of interlayer edges \n",
    "interlayer_simple_directed = interlayer_simpledigraph( # Interlayer constructor \n",
    "    layer_simple_directed,                             # Layer 1 \n",
    "    layer_simple_directed_weighted,                    # Layer 2 \n",
    "    n_edges                                            # Number of edges \n",
    ")"
   ]
  },
  {
   "cell_type": "code",
   "execution_count": null,
   "metadata": {
    "slideshow": {
     "slide_type": "-"
    }
   },
   "outputs": [],
   "source": [
    "# Create a simple directed meta interlayer \n",
    "n_vertices_1 = nv(layer_simple_directed_weighted)   # Number of vertices of layer 1\n",
    "n_vertices_2 = nv(layer_simple_directed_value)      # Number of vertices of layer 2\n",
    "n_edges = rand(1:(n_vertices_1 * n_vertices_2 - 1)) # Number of interlayer edges \n",
    "interlayer_simple_directed_meta = interlayer_metadigraph( # Interlayer constructor\n",
    "    layer_simple_directed_weighted,                       # Layer 1 \n",
    "    layer_simple_directed_value,                          # Layer 2\n",
    "    n_edges;                                              # Number of edges\n",
    "    default_edge_metadata=(src, dst) ->                   # Edge metadata \n",
    "        (edge_metadata=\"metadata_of_edge_from_$(src)_to_$(dst)\"),\n",
    "    transfer_vertex_metadata=true # Boolean deciding layer vertex metadata inheritance\n",
    ")"
   ]
  },
  {
   "cell_type": "code",
   "execution_count": null,
   "metadata": {
    "slideshow": {
     "slide_type": "subslide"
    }
   },
   "outputs": [],
   "source": [
    "# Create a list of interlayers \n",
    "interlayers = [interlayer_simple_directed, interlayer_simple_directed_meta]"
   ]
  },
  {
   "cell_type": "markdown",
   "metadata": {
    "slideshow": {
     "slide_type": "subslide"
    }
   },
   "source": [
    "### Multilayer Graphs "
   ]
  },
  {
   "cell_type": "code",
   "execution_count": null,
   "metadata": {
    "slideshow": {
     "slide_type": "-"
    }
   },
   "outputs": [],
   "source": [
    "# Create a simple directed multilayer graph\n",
    "multilayerdigraph = MultilayerDiGraph( # Constructor \n",
    "    layers,                            # The (ordered) collection of layers\n",
    "    interlayers;                       # The manually specified interlayers\n",
    "                                       # The interlayers that are left unspecified \n",
    "                                       # will be automatically inserted according \n",
    "                                       # to the keyword argument below\n",
    "    default_interlayers_structure=\"multiplex\" \n",
    "    # The automatically specified interlayers will have only diagonal couplings\n",
    ")"
   ]
  },
  {
   "cell_type": "code",
   "execution_count": null,
   "metadata": {
    "scrolled": false,
    "slideshow": {
     "slide_type": "-"
    }
   },
   "outputs": [],
   "source": [
    "# Layers and interlayer can be accessed as properties using their names\n",
    "multilayerdigraph.layer_simplevaldigraph"
   ]
  },
  {
   "cell_type": "code",
   "execution_count": null,
   "metadata": {
    "slideshow": {
     "slide_type": "subslide"
    }
   },
   "outputs": [],
   "source": [
    "# Create a node \n",
    "new_node_1 = Node(\"new_node_1\")\n",
    "\n",
    "# Add the node to the multilayer graph \n",
    "add_node!(multilayerdigraph, new_node_1)\n",
    "\n",
    "# Create a vertex representing the node \n",
    "new_vertex_1 = MV(           # Constructor (alias for \"MultilayerVertex\")\n",
    "    new_node_1,              # Node represented by the vertex\n",
    "    :layer_simplevaldigraph, # Layer containing the vertex \n",
    "    (\"new_metadata\")         # Vertex metadata \n",
    ")\n",
    "\n",
    "# Add the vertex \n",
    "add_vertex!(\n",
    "    multilayerdigraph,       # MultilayerDiGraph the vertex will be added to\n",
    "    new_vertex_1             # MultilayerVertex to add\n",
    ")"
   ]
  },
  {
   "cell_type": "code",
   "execution_count": null,
   "metadata": {
    "slideshow": {
     "slide_type": "-"
    }
   },
   "outputs": [],
   "source": [
    "# Create another node in another layer \n",
    "new_node_2 = Node(\"new_node_2\")\n",
    "\n",
    "# Create another vertex representing the new node\n",
    "new_vertex_2 = MV(new_node_2, :layer_simpledigraph)\n",
    "\n",
    "# Add the new vertex\n",
    "add_vertex!(\n",
    "    multilayerdigraph,\n",
    "    new_vertex_2;\n",
    "    add_node=true # Add the associated node before adding the vertex\n",
    ")"
   ]
  },
  {
   "cell_type": "code",
   "execution_count": null,
   "metadata": {
    "slideshow": {
     "slide_type": "subslide"
    }
   },
   "outputs": [],
   "source": [
    "# Create an edge \n",
    "new_edge = MultilayerEdge( # Constructor \n",
    "    new_vertex_1,          # Source vertex\n",
    "    new_vertex_2,          # Destination vertex \n",
    "    (\"some_edge_metadata\") # Edge metadata \n",
    ")\n",
    "\n",
    "# Add the edge \n",
    "add_edge!(\n",
    "    multilayerdigraph,     # MultilayerDiGraph the edge will be added to\n",
    "    new_edge               # MultilayerVertex to add\n",
    ")"
   ]
  },
  {
   "cell_type": "markdown",
   "metadata": {
    "slideshow": {
     "slide_type": "subslide"
    }
   },
   "source": [
    "### Metrics"
   ]
  },
  {
   "cell_type": "code",
   "execution_count": null,
   "metadata": {
    "slideshow": {
     "slide_type": "-"
    }
   },
   "outputs": [],
   "source": [
    "# Compute the global clustering coefficient\n",
    "multilayer_global_clustering_coefficient(multilayerdigraph) "
   ]
  },
  {
   "cell_type": "code",
   "execution_count": null,
   "metadata": {},
   "outputs": [],
   "source": [
    "# Compute the overlay clustering coefficient\n",
    "overlay_clustering_coefficient(multilayerdigraph)"
   ]
  },
  {
   "cell_type": "code",
   "execution_count": null,
   "metadata": {},
   "outputs": [],
   "source": [
    "# Compute the multilayer eigenvector centrality \n",
    "eigenvector_centrality(multilayerdigraph)"
   ]
  },
  {
   "cell_type": "code",
   "execution_count": null,
   "metadata": {},
   "outputs": [],
   "source": [
    "# Compute the multilayer modularity \n",
    "modularity(\n",
    "    multilayerdigraph,\n",
    "    rand([1, 2, 3, 4], length(nodes(multilayerdigraph)), length(multilayerdigraph.layers))\n",
    ")"
   ]
  },
  {
   "cell_type": "markdown",
   "metadata": {
    "slideshow": {
     "slide_type": "slide"
    }
   },
   "source": [
    "# 3. Future Developments "
   ]
  },
  {
   "cell_type": "markdown",
   "metadata": {
    "slideshow": {
     "slide_type": "subslide"
    }
   },
   "source": [
    "- Issue \n",
    "- Issue\n",
    "- Issue\n",
    "- Issue\n",
    "- Issue \n",
    "- Issue \n",
    "- Issue\n",
    "- Issue\n",
    "- Issue\n",
    "- Issue "
   ]
  },
  {
   "cell_type": "markdown",
   "metadata": {
    "slideshow": {
     "slide_type": "slide"
    }
   },
   "source": [
    "# Thanks for your attention! 🙏\n",
    "\n",
    "<img align=\"right\" \n",
    "     width=\"1100\" height=\"1100\" \n",
    "     src=\"https://github.com/JuliaGraphs/MultilayerGraphs.jl/blob/main/docs/src/assets/logo.png?raw=true\"\n",
    "     alt=\"Logo of MultilayerGraphs.jl\">\n",
    "\n",
    "## Outline \n",
    "\n",
    "1⃣ Introduction<br>\n",
    "2⃣ Tutorial<br>\n",
    "3⃣ Future Developments\n",
    "\n",
    "## Resources \n",
    "\n",
    "📦 [Repository](https://github.com/JuliaGraphs/MultilayerGraphs.jl) <br>\n",
    "📄 [Documentation](https://juliagraphs.org/MultilayerGraphs.jl)\n",
    "\n",
    "## Speakers \n",
    "<br>\n",
    "<figure>\n",
    "    <a href=\"https://github.com/ClaudMor\">\n",
    "    <img align=\"left\" \n",
    "         width=\"120\" height=\"120\" \n",
    "         src=\"https://avatars.githubusercontent.com/u/43729990?v=4\"\n",
    "         alt=\"GitHub profile image of Claudio Moroni.\">\n",
    "    </a>\n",
    "    <figcaption>\n",
    "        <br>&nbsp;&nbsp;Claudio Moroni\n",
    "    </figcaption>\n",
    "</figure>\n",
    "<br><br>\n",
    "<figure>\n",
    "    <a href=\"https://github.com/pitmonticone\">\n",
    "    <img align=\"left\" \n",
    "         width=\"120\" height=\"120\" \n",
    "         src=\"https://avatars.githubusercontent.com/u/38562595?v=4\"\n",
    "         alt=\"GitHub profile image of Pietro Monticone.\">  \n",
    "    </a>\n",
    "    <figcaption>\n",
    "        <br>&nbsp;&nbsp;Pietro Monticone\n",
    "    </figcaption>\n",
    "</figure>"
   ]
  }
 ],
 "metadata": {
  "celltoolbar": "Slideshow",
  "kernelspec": {
   "display_name": "Julia 1.8.2",
   "language": "julia",
   "name": "julia-1.8"
  },
  "language_info": {
   "file_extension": ".jl",
   "mimetype": "application/julia",
   "name": "julia",
   "version": "1.8.2"
  }
 },
 "nbformat": 4,
 "nbformat_minor": 2
}
