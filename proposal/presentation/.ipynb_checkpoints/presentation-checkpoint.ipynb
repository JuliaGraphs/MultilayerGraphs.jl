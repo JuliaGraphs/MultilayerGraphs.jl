{
 "cells": [
  {
   "cell_type": "code",
   "execution_count": 3,
   "metadata": {
    "slideshow": {
     "slide_type": "skip"
    }
   },
   "outputs": [
    {
     "name": "stderr",
     "output_type": "stream",
     "text": [
      "\u001b[32m\u001b[1m  Activating\u001b[22m\u001b[39m project at `~/GitHub/MultilayerGraphs.jl/proposal/presentation`\n"
     ]
    }
   ],
   "source": [
    "using Pkg\n",
    "Pkg.activate(\".\")"
   ]
  },
  {
   "cell_type": "code",
   "execution_count": 5,
   "metadata": {
    "slideshow": {
     "slide_type": "slide"
    }
   },
   "outputs": [
    {
     "name": "stderr",
     "output_type": "stream",
     "text": [
      "\u001b[36m\u001b[1m[ \u001b[22m\u001b[39m\u001b[36m\u001b[1mInfo: \u001b[22m\u001b[39mPrecompiling Distributions [31c24e10-a181-5473-b8eb-7969acd0382f]\n",
      "\u001b[36m\u001b[1m[ \u001b[22m\u001b[39m\u001b[36m\u001b[1mInfo: \u001b[22m\u001b[39mPrecompiling MultilayerGraphs [af984530-d72f-4904-8b81-b992bbbeaf3f]\n",
      "WARNING: Method definition weights(MetaGraphs.AbstractMetaGraph{T}) where {T} in module MetaGraphs at /Users/pietro/.julia/packages/MetaGraphs/qq8oz/src/MetaGraphs.jl:236 overwritten in module MultilayerGraphs at /Users/pietro/.julia/packages/MultilayerGraphs/SM9g3/src/graphs_extensions/metagraphs.jl:87.\n",
      "  ** incremental compilation may be fatally broken for this module **\n",
      "\n"
     ]
    },
    {
     "data": {
      "text/plain": [
       "100-element Vector{Node}:\n",
       " Node(\"node_1\")\n",
       " Node(\"node_2\")\n",
       " Node(\"node_3\")\n",
       " Node(\"node_4\")\n",
       " Node(\"node_5\")\n",
       " Node(\"node_6\")\n",
       " Node(\"node_7\")\n",
       " Node(\"node_8\")\n",
       " Node(\"node_9\")\n",
       " Node(\"node_10\")\n",
       " Node(\"node_11\")\n",
       " Node(\"node_12\")\n",
       " Node(\"node_13\")\n",
       " ⋮\n",
       " Node(\"node_89\")\n",
       " Node(\"node_90\")\n",
       " Node(\"node_91\")\n",
       " Node(\"node_92\")\n",
       " Node(\"node_93\")\n",
       " Node(\"node_94\")\n",
       " Node(\"node_95\")\n",
       " Node(\"node_96\")\n",
       " Node(\"node_97\")\n",
       " Node(\"node_98\")\n",
       " Node(\"node_99\")\n",
       " Node(\"node_100\")"
      ]
     },
     "execution_count": 5,
     "metadata": {},
     "output_type": "execute_result"
    }
   ],
   "source": [
    "# Import necessary dependencies\n",
    "using Distributions, Graphs, SimpleValueGraphs\n",
    "using MultilayerGraphs\n",
    "# Set the number of nodes\n",
    "const n_nodes = 100\n",
    "# Create a list of nodes\n",
    "const node_list = [Node(\"node_$i\") for i in 1:n_nodes]"
   ]
  },
  {
   "cell_type": "markdown",
   "metadata": {
    "slideshow": {
     "slide_type": "slide"
    }
   },
   "source": [
    "## Layers "
   ]
  },
  {
   "cell_type": "code",
   "execution_count": 6,
   "metadata": {
    "slideshow": {
     "slide_type": "slide"
    }
   },
   "outputs": [
    {
     "name": "stderr",
     "output_type": "stream",
     "text": [
      "\u001b[36m\u001b[1m[ \u001b[22m\u001b[39m\u001b[36m\u001b[1mInfo: \u001b[22m\u001b[39mTrying to sample a digraphical sequence from the two provided distributions Truncated(Normal{Float64}(μ=5.0, σ=5.0); lower=0.0, upper=20.0) and Truncated(Normal{Float64}(μ=5.0, σ=5.0); lower=0.0, upper=20.0)...\n"
     ]
    },
    {
     "data": {
      "text/plain": [
       "Layer\tlayer_simple_directed\n",
       "underlying_graph: SimpleDiGraph{Int64}\n",
       "vertex type: Int64\n",
       "weight type: Float64 \n",
       "nv = 20\n",
       "ne = 152\n"
      ]
     },
     "execution_count": 6,
     "metadata": {},
     "output_type": "execute_result"
    }
   ],
   "source": [
    "# Create a simple directed layer\n",
    "n_vertices = rand(1:100)                          # Number of vertices \n",
    "layer_simple_directed = layer_simpledigraph(      # Layer constructor \n",
    "    :layer_simple_directed,                       # Layer name\n",
    "    sample(node_list, n_vertices; replace=false), # Nodes represented in the layer\n",
    "    Truncated(Normal(5, 5), 0, 20), # Indegree sequence distribution \n",
    "    Truncated(Normal(5, 5), 0, 20),  # Outdegree sequence distribution\n",
    ")"
   ]
  },
  {
   "cell_type": "code",
   "execution_count": null,
   "metadata": {},
   "outputs": [],
   "source": []
  }
 ],
 "metadata": {
  "celltoolbar": "Slideshow",
  "kernelspec": {
   "display_name": "Julia 1.8.2",
   "language": "julia",
   "name": "julia-1.8"
  },
  "language_info": {
   "file_extension": ".jl",
   "mimetype": "application/julia",
   "name": "julia",
   "version": "1.8.2"
  }
 },
 "nbformat": 4,
 "nbformat_minor": 2
}
