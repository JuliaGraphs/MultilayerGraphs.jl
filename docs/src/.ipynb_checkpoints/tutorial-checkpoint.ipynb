{
 "cells": [
  {
   "cell_type": "markdown",
   "metadata": {},
   "source": [
    "# MultilayerGraphs.jl\n",
    "\n",
    "**MultilayerGraphs.jl** is a Julia package for the construction, manipulation and analysis of multilayer graphs [extending Graphs.jl](https://juliagraphs.org/Graphs.jl/dev/ecosystem/interface/).\n",
    "\n",
    "## Overview\n",
    "\n",
    "**MultilayerGraphs.jl** implements the mathematical formulation of multilayer graphs proposed by [De Domenico et al. (2013)](https://doi.org/10.1103/PhysRevX.3.041022) together with insights from [Kivela et al. (2014)](https://doi.org/10.1093/comnet/cnu016) and  [Bianconi 2018]([??](https://global.oup.com/academic/product/multilayer-networks-9780198753919?cc=us&lang=en&)). It mainly revolves around two custom types, [`MultilayerGraph`](@ref) and [`MultilayerDiGraph`](@ref), encoding undirected and directed multilayer graphs respectively.\n",
    "\n",
    "Roughly speaking, a multilayer graph is a collection of *layers*, i.e. graphs whose vertices are representations of the same set of nodes (not all nodes have to be present in every layer), and *interlayers*, i.e the [bipartite graphs](https://en.wikipedia.org/wiki/Bipartite_graph) whose two sets of vertices are those of any two layers. A vertex of a multilayer graph will be represented via a [`MultilayerVertex`](@ref) struct, and nodes via a [`Node`](@ref) struct.\n",
    "\n",
    "[`MultilayerGraph`](@ref) and [`MultilayerDiGraph`](@ref) are fully-fledged [Graphs.jl](https://github.com/JuliaGraphs/Graphs.jl) extensions. Both structs are designed so that their layers and interlayers can be of any type (as long as they are Graphs.jl extensions themselves) and they can be of different types. It is anyway required that all layers and interlayers of [`MultilayerGraph`](@ref) and [`MultilayerDiGraph`](@ref) are respectively undirected and directed.\n",
    "\n",
    "Both [`MultilayerGraph`](@ref) and [`MultilayerDiGraph`](@ref) allow for vertex and edge metadata, provided that the layer or interlayer the vertex or the edge belongs to supports metadata."
   ]
  },
  {
   "cell_type": "markdown",
   "metadata": {},
   "source": [
    "## Installation\n",
    "\n",
    "Press `]` in the Julia REPL and then\n",
    "\n",
    "```julia\n",
    "pkg> add MultilayerGraphs\n",
    "```"
   ]
  },
  {
   "cell_type": "markdown",
   "metadata": {},
   "source": [
    "\n",
    "## Tutorial\n",
    "\n",
    "Here we illustrate how to define, handle and analyse a [`MultilayerGraph`](@ref) (the directed version is completely analogous)."
   ]
  },
  {
   "cell_type": "code",
   "execution_count": 1,
   "metadata": {},
   "outputs": [],
   "source": [
    "using Revise\n",
    "using StatsBase, Distributions\n",
    "using Graphs, SimpleWeightedGraphs, MetaGraphs, SimpleValueGraphs\n",
    "using MultilayerGraphs"
   ]
  },
  {
   "cell_type": "markdown",
   "metadata": {},
   "source": [
    "Define some constants that will prove useful later in the tutorial:"
   ]
  },
  {
   "cell_type": "code",
   "execution_count": 2,
   "metadata": {},
   "outputs": [],
   "source": [
    "# Set the minimum and maximum number of all_nodes and edges for random graphs\n",
    "const vertextype   = Int64\n",
    "const _weighttype  = Float64\n",
    "const min_vertices = 5\n",
    "const max_vertices = 7\n",
    "const min_edges    = 1\n",
    "const max_edges    = max_vertices*(max_vertices-1)\n",
    "const n_nodes      = max_vertices\n",
    "; #hide"
   ]
  },
  {
   "cell_type": "markdown",
   "metadata": {},
   "source": [
    "Next we define nodes:"
   ]
  },
  {
   "cell_type": "code",
   "execution_count": 3,
   "metadata": {},
   "outputs": [
    {
     "data": {
      "text/plain": [
       "7-element Vector{Node}:\n",
       " Node(\"node_1\")\n",
       " Node(\"node_2\")\n",
       " Node(\"node_3\")\n",
       " Node(\"node_4\")\n",
       " Node(\"node_5\")\n",
       " Node(\"node_6\")\n",
       " Node(\"node_7\")"
      ]
     },
     "execution_count": 3,
     "metadata": {},
     "output_type": "execute_result"
    }
   ],
   "source": [
    "## The constructor for nodes (which are immutable) only requires a name (`id`) for the node\n",
    "const all_nodes = [Node(\"node_$i\") for i in 1:n_nodes]"
   ]
  },
  {
   "cell_type": "markdown",
   "metadata": {},
   "source": [
    "And construct `MultilayerVertex`s from these nodes:"
   ]
  },
  {
   "cell_type": "code",
   "execution_count": 4,
   "metadata": {},
   "outputs": [
    {
     "data": {
      "text/plain": [
       "7-element Vector{MultilayerVertex{nothing}}:\n",
       " MV(Node(\"node_1\"), :nothing, (\"I'm node node_1\",))\n",
       " MV(Node(\"node_2\"), :nothing, (\"I'm node node_2\",))\n",
       " MV(Node(\"node_3\"), :nothing, (\"I'm node node_3\",))\n",
       " MV(Node(\"node_4\"), :nothing, (\"I'm node node_4\",))\n",
       " MV(Node(\"node_5\"), :nothing, (\"I'm node node_5\",))\n",
       " MV(Node(\"node_6\"), :nothing, (\"I'm node node_6\",))\n",
       " MV(Node(\"node_7\"), :nothing, (\"I'm node node_7\",))"
      ]
     },
     "execution_count": 4,
     "metadata": {},
     "output_type": "execute_result"
    }
   ],
   "source": [
    "## Convert nodes to multilayer vertices without metadata\n",
    "const multilayervertices = MV.(all_nodes)\n",
    "## Convert nodes multilayer vertices with metadata\n",
    "const multilayervertices_meta  = [MV(node, (\"I'm node $(node.id)\",)) for node in all_nodes]"
   ]
  },
  {
   "cell_type": "markdown",
   "metadata": {},
   "source": [
    "This conversion is done since it is logical to add vertices to a graph, not nodes, and also for consistency reasons with the ecosystem."
   ]
  },
  {
   "cell_type": "markdown",
   "metadata": {},
   "source": [
    "Printing a `MultilayerVertex` returns:"
   ]
  },
  {
   "cell_type": "code",
   "execution_count": 5,
   "metadata": {},
   "outputs": [
    {
     "data": {
      "text/plain": [
       "MV(Node(\"node_1\"), :nothing, (\"I'm node node_1\",))"
      ]
     },
     "execution_count": 5,
     "metadata": {},
     "output_type": "execute_result"
    }
   ],
   "source": [
    "multilayervertices_meta[1]"
   ]
  },
  {
   "cell_type": "markdown",
   "metadata": {},
   "source": [
    "Where `MV` is an alias for `MultilayerVertex`. The first field is the `Node` being represented, the second the (name of) the layer the vertex is represented in (here it is set to `nothing`, since these vertices are yet to be assigned), and the metadata associated to the vertex (no metadata are currently represented via an empty `NamedTuple`). `MultilayerVertex` metadata can be represented via a `Tuple` or a `NamedTuple` (see below for examples)."
   ]
  },
  {
   "cell_type": "markdown",
   "metadata": {},
   "source": [
    "### Layers\n",
    "\n",
    "As said before, to define a multilayer graph we need to specify its layers and interlayers. Layers and the indivudual graphs that make up multilayer graphs. We proceed by constructing a [`Layer`](@ref) using the constructor that randomly specifies the edges:"
   ]
  },
  {
   "cell_type": "markdown",
   "metadata": {},
   "source": [
    "```julia\n",
    "Layer(\n",
    "    name::Symbol,                                                 # The name of the layer\n",
    "    vertices::Vector{ <: MultilayerVertex},                       # The `MultilayerVertex`s of the Layer\n",
    "    ne::Int64,                                                    # The number of edges of the Layer\n",
    "    null_graph::G,                                                # The Layer's underlying graph type, which must be passed as a null graph. If it is not, an error will be thrown.\n",
    "    weighttype::Type{U};                                          # The type of the `MultilayerEdge` weights (even when the underlying Layer's graph is unweighted, we need to specify a weight type since the `MultilayerGraph`s will always be weighted)\n",
    "    default_vertex_metadata::Function = mv -> NamedTuple(),       # Function that takes a `MultilayerVertex` and returns a `Tuple` or a `NamedTuple` containing the vertex metadata. defaults to `mv -> NamedTuple()`;\n",
    "    default_edge_weight::Function = (src, dst) -> nothing,        #  Function that takes a pair of `MultilayerVertex`s and returns an edge weight of type `weighttype` or `nothing` (which is compatible with unweighted underlying graphs and corresponds to `one(weighttype)` for weighted underlying graphs). Defaults to `(src, dst) -> nothing`;\n",
    "    default_edge_metadata::Function = (src, dst) -> NamedTuple(), # Function that takes a pair of `MultilayerVertex`s and  returns a `Tuple` or a `NamedTuple` containing the edge metadata, that will be called when `add_edge!(mg,src,dst, args...; kwargs...)` is called without the `metadata` keyword argument, and when generating the edges in this constructor. Defaults to  `(src, dst) -> NamedTuple()`;\n",
    "    allow_self_loops::Bool = false                                # whether to allow self loops to be geenrated or not. Deafults to `false`.\n",
    ")\n",
    "```\n"
   ]
  },
  {
   "cell_type": "markdown",
   "metadata": {},
   "source": [
    "A `Layer` is considered \"weighted\" if its underlying graph (`null_graph` argument) has been given the `IsWeighted` trait (traits throighout this package are implemented via from [SimpleTraits.jl](https://github.com/mauro3/SimpleTraits.jl), just like Graphs.jl does). Since one may at any moment add a new weighted `Layer` to a `MultilayerGraph` (see below for details), the latter is always considered a \"weighted graph\", so it is given the `IsWeighted` trait. Thus, all `Layer`s and `Interlayer`s (collectively named \"subgraphs\" hereafter) must specify their `weighttype` as the last argument of their contructor, so the user may debug their weight matrices immediately after construction. As better specified below, all subgraphs that are meant to be part of the same `MultilayerGraph` must have the same `weighttype`.   \n",
    "\n",
    "Before instantiating `Layer`s, we define an utility function to ease randomization:"
   ]
  },
  {
   "cell_type": "code",
   "execution_count": 6,
   "metadata": {},
   "outputs": [],
   "source": [
    "# Utility function that returns a random number of vertices and edges each time it is called:\n",
    "function rand_nv_ne_layer(min_vertices, max_vertices)\n",
    "    _nv = rand(min_vertices:max_vertices)\n",
    "    _ne = rand(1:(_nv*(_nv-1)) ÷ 2 )\n",
    "    return (_nv,_ne)\n",
    "end\n",
    "\n",
    "# Utility function that returns two vertices of a Layer that are not adjacenct.\n",
    "function _get_srcmv_dstmv_layer(layer::Layer)\n",
    "\n",
    "    mvs = get_bare_mv.(collect(mv_vertices(layer)))\n",
    "\n",
    "    src_mv = nothing    \n",
    "    _collection = []\n",
    "\n",
    "\n",
    "    while isempty(_collection)\n",
    "        src_mv = rand(mvs)\n",
    "        _collection = setdiff(Set(mvs), Set(vcat(get_bare_mv.(mv_outneighbors(layer, src_mv)), src_mv ) ) )  \n",
    "    end\n",
    "\n",
    "    dst_mv = get_bare_mv(rand(_collection))\n",
    "\n",
    "    return mvs, src_mv, dst_mv\n",
    "end\n",
    "; #hide"
   ]
  },
  {
   "cell_type": "markdown",
   "metadata": {},
   "source": [
    "We are now are ready to define some `Layer`s. Every type of graph from the Graphs.jl ecosystem may underlie a `Layer` (or an `Interlayer`). We will construct a few of them, each time with a different number of vertices and edges.\n"
   ]
  },
  {
   "cell_type": "code",
   "execution_count": 7,
   "metadata": {},
   "outputs": [],
   "source": [
    "# An unweighted simple layer:\n",
    "_nv, _ne  = rand_nv_ne_layer(min_vertices,max_vertices)\n",
    "layer_sg = Layer(   :layer_sg,\n",
    "                    sample(multilayervertices, _nv, replace = false),\n",
    "                    _ne, \n",
    "                    SimpleGraph{vertextype}(),\n",
    "                    _weighttype\n",
    ")\n",
    "\n",
    "# A weighted `Layer`\n",
    "_nv, _ne  = rand_nv_ne_layer(min_vertices,max_vertices)\n",
    "layer_swg = Layer(  :layer_swg, \n",
    "                    sample(multilayervertices, _nv, replace = false),\n",
    "                    _ne, \n",
    "                    SimpleWeightedGraph{vertextype, _weighttype}(),\n",
    "                    _weighttype; \n",
    "                    default_edge_weight = (src,dst) -> rand()\n",
    ")\n",
    "# A `Layer` with an underlying `MetaGraph`: \n",
    "_nv, _ne = rand_nv_ne_layer(min_vertices,max_vertices)\n",
    "layer_mg = Layer(   :layer_mg, \n",
    "                    sample(multilayervertices_meta, _nv, replace = false), \n",
    "                    _ne, \n",
    "                    MetaGraph{vertextype, _weighttype}(),\n",
    "                    _weighttype; \n",
    "                    default_edge_metadata = (src,dst) -> (from_to = \"from_$(src)_to_$(dst)\",)\n",
    ")\n",
    "# `Layer` with an underlying `ValGraph` from `SimpleValueGraphs.jl`\n",
    "_nv, _ne = rand_nv_ne_layer(min_vertices,max_vertices)\n",
    "layer_vg = Layer(   :layer_vg, \n",
    "                    sample(multilayervertices_meta, _nv, replace = false), \n",
    "                    _ne,\n",
    "                    MultilayerGraphs.ValGraph{vertextype}(;edgeval_types=(Float64, String, ),\n",
    "                                            edgeval_init=(s, d) -> (s+d, \"hi\"),\n",
    "                                            vertexval_types=(String,),\n",
    "                                            vertexval_init=v -> (\"$v\",),),\n",
    "                    _weighttype;\n",
    "                    default_edge_metadata = (src,dst) -> (rand(), \"from_$(src)_to_$(dst)\",),\n",
    "                    default_vertex_metadata = mv -> (\"This metadata had been generated via the default_vertex_metadata method\",)\n",
    ")\n",
    "\n",
    "# Collect all layers in an ordered list. Order will be recorded when instantiating the multilayer graph.\n",
    "layers = [layer_sg, layer_swg, layer_mg, layer_vg]\n",
    "; #hide"
   ]
  },
  {
   "cell_type": "markdown",
   "metadata": {},
   "source": [
    "The API that inspects and modifies `Layer`s will be shown below togheter with that of `Interlayer`s, since they are usually the same. There are of course other constructors that you may discover by typing `?Layer` in the console.\n",
    "\n"
   ]
  },
  {
   "cell_type": "markdown",
   "metadata": {},
   "source": [
    "### Interlayers\n",
    "\n",
    "Now we turn to defining `Interlayer`s. Interlayers are the graphs containing all the edges between vertices is two distinct layers. As before, we need an utility to ease randomization:"
   ]
  },
  {
   "cell_type": "code",
   "execution_count": 8,
   "metadata": {},
   "outputs": [],
   "source": [
    "# Utilities for Interlayer\n",
    "## Utility function that returns two vertices of an Interlayer that are not adjacenct.\n",
    "function _get_srcmv_dstmv_interlayer(interlayer::Interlayer)\n",
    "\n",
    "    mvs = get_bare_mv.(collect(mv_vertices(interlayer)))\n",
    "\n",
    "    src_mv = nothing    \n",
    "    _collection = []\n",
    "\n",
    "\n",
    "    while isempty(_collection)\n",
    "        src_mv = rand(mvs)\n",
    "        _collection = setdiff(Set(mvs), Set(vcat(get_bare_mv.(mv_outneighbors(interlayer, src_mv)), src_mv, get_bare_mv.(mv_vertices( eval(src_mv.layer) ))) ) )  \n",
    "    end\n",
    "\n",
    "    dst_mv = get_bare_mv(rand(_collection))\n",
    "\n",
    "    return mvs, src_mv, dst_mv\n",
    "end\n",
    "\n",
    "\n",
    "## Utility function that returns a random number edges between its arguments `layer_1` and `layer_2`:\n",
    "function rand_ne_interlayer(layer_1, layer_2)\n",
    "    _nv = nv(layer_1) + nv(layer_2)\n",
    "    _ne = rand(_nv:(_nv*(_nv-1)) ÷ 2 )\n",
    "    return _ne\n",
    "end\n",
    "; #hide"
   ]
  },
  {
   "cell_type": "markdown",
   "metadata": {},
   "source": [
    "An `Interlayer` is constructed by passing its name, the two `Layer`s it should connect, and the other parameters just like the `Layer`'s constructor. The random constructor reads:\n",
    "```julia\n",
    "Interlayer(\n",
    "    layer_1::Layer{T,U},                                                 # One of the two layers connected by the Interlayer\n",
    "    layer_2::Layer{T,U},                                                 # One of the two layers connected by the Interlayer  \n",
    "    ne::Int64,                                                           # The number of edges of the Interlayer\n",
    "    null_graph::G;                                                       # the Interlayer's underlying graph type, which must be passed as a null graph. If it is not, an error will be thrown.\n",
    "    default_edge_weight::Function = (x,y) -> nothing,                    # Function that takes a pair of `MultilayerVertex`s and returns an edge weight of type `weighttype` or `nothing` (which is compatible with unweighted underlying graphs and corresponds to `one(weighttype)` for weighted underlying graphs). Defaults to `(src, dst) -> nothing`;\n",
    "    default_edge_metadata::Function = (x,y) -> NamedTuple(),             # Function that takes a pair of `MultilayerVertex`s and  returns a `Tuple` or a `NamedTuple` containing the edge metadata, that will be called when `add_edge!(mg,src,dst, args...; kwargs...)` is called without the `metadata` keyword argument, and when generating the edges in this constructor. Defaults to  `(src, dst) -> NamedTuple()`;\n",
    "    name::Symbol = Symbol(\"interlayer_$(layer_1.name)_$(layer_2.name)\"), # The name of the Interlayer. Defaults to Symbol(\"interlayer_(layer_1.name)_(layer_2.name)\");\n",
    "    transfer_vertex_metadata::Bool = false                               # if true, vertex metadata found in both connected layers are carried over to the vertices of the Interlayer. NB: not all choice of underlying graph may support this feature. Graphs types that don't support metadata or that pose limitations to it may result in errors.;\n",
    ") \n",
    "```\n",
    "We will build a few of random `Interlayer`s:"
   ]
  },
  {
   "cell_type": "code",
   "execution_count": 9,
   "metadata": {},
   "outputs": [],
   "source": [
    "# Define the random undirected simple Interlayer\n",
    "_ne = rand_ne_interlayer(layer_sg, layer_swg)\n",
    "interlayer_sg_swg = Interlayer( layer_sg,                  # The first layer to be connected\n",
    "                                layer_swg,                 # The second layer to be connected\n",
    "                                _ne,                       # The number of edges to randomly generate\n",
    "                                SimpleGraph{vertextype}(), # The underlying graph, passed as a null graph\n",
    "                                name = :random_interlayer  # The name of the interlayer. We will be able to access it as a property of the multilayer graph via its name. This kwarg's default value is given by a combination of the two layers' names.\n",
    ")\n",
    "# Define a weighted `Interlayer`\n",
    "_ne = rand_ne_interlayer(layer_swg, layer_mg)\n",
    "interlayer_swg_mg = Interlayer( layer_swg, \n",
    "                                layer_mg,\n",
    "                                _ne,\n",
    "                                SimpleWeightedGraph{vertextype, _weighttype}(); \n",
    "                                default_edge_weight = (x,y) -> rand() # Arguments follow the same rules as in Layer\n",
    ") \n",
    "# Define an `Interlayer` with an underlying `MetaGraph`\n",
    "_ne = rand_ne_interlayer(layer_mg, layer_vg)\n",
    "interlayer_mg_vg = Interlayer(  layer_mg,\n",
    "                                layer_vg, \n",
    "                                _ne, \n",
    "                                MetaGraph{vertextype, _weighttype}(); \n",
    "                                default_edge_metadata = (x,y) -> (mymetadata = rand(),), \n",
    "                                transfer_vertex_metadata = true # This boolean kwarg controls whether vertex metadata found in both connected layers are carried over to the vertices of the Interlayer. NB: not all choice of underlying graph may support this feature. Graphs types that don't support metadata or that pose limitations to it may result in errors.\n",
    ")\n",
    "# Define an `Interlayer` with an underlying `ValGraph` from `SimpleValueGraphs.jl`, with diagonal couplings only:\n",
    "interlayer_multiplex_sg_mg = multiplex_interlayer(  layer_sg, \n",
    "                                                    layer_mg, \n",
    "                                                    ValGraph{vertextype}(; edgeval_types=(from_to = String,), edgeval_init=(s, d) -> (from_to = \"from_$(s)_to_$(d)\")); \n",
    "                                                    default_edge_metadata = (x,y) -> (from_to = \"from_$(src)_to_$(dst)\",)\n",
    ") \n",
    "# Finally, An `Interlayer` with no couplings (an \"empty\" interlayer):\n",
    "interlayer_empty_sg_vg = empty_interlayer(  layer_sg, \n",
    "                                            layer_vg, \n",
    "                                            SimpleGraph{vertextype}()\n",
    ")\n",
    "\n",
    "# Collect all interlayers. Even though the list is ordered, order will not matter when instantiating the multilayer graph.\n",
    "interlayers = [interlayer_sg_swg, interlayer_swg_mg, interlayer_mg_vg, interlayer_multiplex_sg_mg, interlayer_empty_sg_vg]\n",
    "; #hide"
   ]
  },
  {
   "cell_type": "markdown",
   "metadata": {},
   "source": [
    "Next, we explore the API associated to modify and analyze `Layer`s and `Interlayer`s.\n",
    "\n",
    "\n",
    "### Subgraphs API\n",
    "\n",
    "API for  `Layer`s and `Interlayer`s (collectively, \"subgraphs\") are very similar, so we will just show them for the `Layer` case, pointing out differences to the `Interlayer` scenario whenever they occur.\n",
    "\n",
    "Subgraphs extend the Graphs.jl's interface, so one may expect every method from Graphs.jl to apply. Anyway, the output and signature is slightly different and thus worth pointing out below.\n",
    "\n"
   ]
  },
  {
   "cell_type": "markdown",
   "metadata": {},
   "source": [
    "#### Nodes\n",
    "\n",
    "One may retrieve the `Node`s that a `Layer` represents via:"
   ]
  },
  {
   "cell_type": "code",
   "execution_count": 10,
   "metadata": {},
   "outputs": [
    {
     "data": {
      "text/plain": [
       "6-element Vector{Node}:\n",
       " Node(\"node_2\")\n",
       " Node(\"node_3\")\n",
       " Node(\"node_4\")\n",
       " Node(\"node_6\")\n",
       " Node(\"node_5\")\n",
       " Node(\"node_7\")"
      ]
     },
     "execution_count": 10,
     "metadata": {},
     "output_type": "execute_result"
    }
   ],
   "source": [
    "layer_sg_nodes = nodes(layer_sg)"
   ]
  },
  {
   "cell_type": "markdown",
   "metadata": {},
   "source": [
    "The same would be for `Interlayer`s. In this case, the union of the set of nodes represented by the two layers the interlayer connects is returned:"
   ]
  },
  {
   "cell_type": "code",
   "execution_count": 11,
   "metadata": {},
   "outputs": [
    {
     "data": {
      "text/plain": [
       "7-element Vector{Node}:\n",
       " Node(\"node_2\")\n",
       " Node(\"node_3\")\n",
       " Node(\"node_4\")\n",
       " Node(\"node_6\")\n",
       " Node(\"node_5\")\n",
       " Node(\"node_7\")\n",
       " Node(\"node_1\")"
      ]
     },
     "execution_count": 11,
     "metadata": {},
     "output_type": "execute_result"
    }
   ],
   "source": [
    "interlayer_sg_swg_nodes  = nodes(interlayer_sg_swg)"
   ]
  },
  {
   "cell_type": "markdown",
   "metadata": {},
   "source": [
    "One may check for the existence of a node within a layer (or interlayer) via:"
   ]
  },
  {
   "cell_type": "code",
   "execution_count": 12,
   "metadata": {},
   "outputs": [
    {
     "data": {
      "text/plain": [
       "true"
      ]
     },
     "execution_count": 12,
     "metadata": {},
     "output_type": "execute_result"
    }
   ],
   "source": [
    "has_node(layer_sg, layer_sg_nodes[1])"
   ]
  },
  {
   "cell_type": "markdown",
   "metadata": {},
   "source": [
    "#### Vertices\n",
    "\n",
    "One may retrieve the `MultilayerVertex`s of a layer by calling:"
   ]
  },
  {
   "cell_type": "code",
   "execution_count": 13,
   "metadata": {},
   "outputs": [
    {
     "data": {
      "text/plain": [
       "6-element Vector{MultilayerVertex{:layer_sg}}:\n",
       " MV(Node(\"node_2\"), :layer_sg, NamedTuple())\n",
       " MV(Node(\"node_3\"), :layer_sg, NamedTuple())\n",
       " MV(Node(\"node_4\"), :layer_sg, NamedTuple())\n",
       " MV(Node(\"node_6\"), :layer_sg, NamedTuple())\n",
       " MV(Node(\"node_5\"), :layer_sg, NamedTuple())\n",
       " MV(Node(\"node_7\"), :layer_sg, NamedTuple())"
      ]
     },
     "execution_count": 13,
     "metadata": {},
     "output_type": "execute_result"
    }
   ],
   "source": [
    "layer_sg_vertices = mv_vertices(layer_sg)"
   ]
  },
  {
   "cell_type": "markdown",
   "metadata": {},
   "source": [
    "While vertices with metadata would look like:"
   ]
  },
  {
   "cell_type": "code",
   "execution_count": 14,
   "metadata": {},
   "outputs": [
    {
     "data": {
      "text/plain": [
       "6-element Vector{MultilayerVertex{:layer_mg}}:\n",
       " MV(Node(\"node_7\"), :layer_mg, (var\"1\" = \"I'm node node_7\",))\n",
       " MV(Node(\"node_6\"), :layer_mg, (var\"1\" = \"I'm node node_6\",))\n",
       " MV(Node(\"node_2\"), :layer_mg, (var\"1\" = \"I'm node node_2\",))\n",
       " MV(Node(\"node_4\"), :layer_mg, (var\"1\" = \"I'm node node_4\",))\n",
       " MV(Node(\"node_1\"), :layer_mg, (var\"1\" = \"I'm node node_1\",))\n",
       " MV(Node(\"node_5\"), :layer_mg, (var\"1\" = \"I'm node node_5\",))"
      ]
     },
     "execution_count": 14,
     "metadata": {},
     "output_type": "execute_result"
    }
   ],
   "source": [
    "mv_vertices(layer_mg)"
   ]
  },
  {
   "cell_type": "markdown",
   "metadata": {},
   "source": [
    "The verticed of an interlayer are the union of the sets of vertices of the two layers it connects:"
   ]
  },
  {
   "cell_type": "code",
   "execution_count": 15,
   "metadata": {},
   "outputs": [
    {
     "data": {
      "text/plain": [
       "11-element Vector{MultilayerVertex}:\n",
       " MV(Node(\"node_2\"), :layer_sg, NamedTuple())\n",
       " MV(Node(\"node_3\"), :layer_sg, NamedTuple())\n",
       " MV(Node(\"node_4\"), :layer_sg, NamedTuple())\n",
       " MV(Node(\"node_6\"), :layer_sg, NamedTuple())\n",
       " MV(Node(\"node_5\"), :layer_sg, NamedTuple())\n",
       " MV(Node(\"node_7\"), :layer_sg, NamedTuple())\n",
       " MV(Node(\"node_1\"), :layer_swg, NamedTuple())\n",
       " MV(Node(\"node_4\"), :layer_swg, NamedTuple())\n",
       " MV(Node(\"node_5\"), :layer_swg, NamedTuple())\n",
       " MV(Node(\"node_2\"), :layer_swg, NamedTuple())\n",
       " MV(Node(\"node_3\"), :layer_swg, NamedTuple())"
      ]
     },
     "execution_count": 15,
     "metadata": {},
     "output_type": "execute_result"
    }
   ],
   "source": [
    "interlayer_sg_swg_vertices = mv_vertices(interlayer_sg_swg)"
   ]
  },
  {
   "cell_type": "markdown",
   "metadata": {},
   "source": [
    "The `vertices` command would return an internal representation of the `MultilayerVertex`s. This method, together with others, serves to make `MultilayerGraphs.jl` compatible with the Graphs.jl ecosystem, but it is not meant to be called by the end user. It is, anyway, thought to be used by developers who wish to interface their packages with `MultilayerGraphs.jl` just as with other packages of the `Graphs.jl` ecosystem: a developer-oriented guide will be compiled if there is the need. \n",
    "\n",
    "In the [API](@ref) page the intended usage of all methods (*end-user* or *developer*) is highlighted.\n",
    "\n",
    "\n",
    "To add a vertex, simply use [`add_vertex!`](@ref). Let us define a vertex with metadata to add. Since nodes may not be represented more than once in layers, we have to define a new noode to:"
   ]
  },
  {
   "cell_type": "code",
   "execution_count": 16,
   "metadata": {},
   "outputs": [
    {
     "data": {
      "text/plain": [
       "MV(Node(\"missing_node\"), :nothing, (meta = \"my_metadata\",))"
      ]
     },
     "execution_count": 16,
     "metadata": {},
     "output_type": "execute_result"
    }
   ],
   "source": [
    "new_node     = Node(\"missing_node\")\n",
    "new_metadata =  (meta = \"my_metadata\",)\n",
    "new_vertex   = MV(new_node, new_metadata)"
   ]
  },
  {
   "cell_type": "markdown",
   "metadata": {},
   "source": [
    "Of course, to be able to add a vertex with metadata to a layer, one must make sure that the underlying graph supports vertex-level metadata. Should one try to add a vertex with metadata different from an empty `NamedTuple` (i.e. no metadata) to a layer whose underlying graph does not support metadata, a warning is issued and the metadata are discarded.\n",
    "\n",
    "Thus, if we consider a layer whose underlying graph is a `MetaGraph`, the following three syntaxes would be equivalent.\n",
    "\n",
    "- The *standard* interface:\n",
    "```julia\n",
    "add_vertex!(layer_mg, new_vertex)\n",
    "```\n",
    "- The *uniform* interface. This signature has one keyword argument, `metadata`:\n",
    "```julia\n",
    "add_vertex!(layer_mg, new_node, metadata = new_metadata)\n",
    "```\n",
    "\n",
    "The *transparent* interface. After you pass to `add_vertex` the `Layer` and the `Node` you wish to add, you  may pass the same `args` and `kwargs`  that you would pass to the `add_vertex!` dispatch that acts on the underlying graph (after the graph argument). This is a way to let the user directly exploit the API of the underlying graph package, which could be useful for two reasons:\n",
    "1. They may be more convenient;\n",
    "2. They should work even if we are not able to integrate the *standard* and the *uniform* interface with a particular `Graphs.jl`'s extension.\n",
    "\n",
    "Here is an example on how to use it:\n",
    "```julia\n",
    "add_vertex!(layer_mg, new_node, Dict(pairs(new_metadata)))\n",
    "```\n",
    "where `Dict(pairs(new_metadata))` is exactly what you would pass to the `add_vertex!` method that acts on `MetaGraphs`:\n",
    "```julia\n",
    "metagraph = MetaGraph()\n",
    "add_vertex!(metagraph,  Dict(pairs(new_metadata)))\n",
    "```\n",
    "\n",
    "If an underlying graph has an `add_vertex!` interface whose signature overlaps with that of the uniform interface, the uniform interface will be prevail.\n",
    "\n",
    "If, using the *transparent* interface, one does not specify any `metadata`, the `default_vertex_metadata` function passed to the `Layer`'s constructor is called to provide `metadata` to the vertex (type `?Layer` in the REPL for more information).\n",
    "\n",
    "\n",
    "To remove the vertex, simply do:\n",
    "```julia\n",
    "rem_vertex!(layer_sg, new_vertex) # Returns true if succeeds\n",
    "```\n",
    "\n",
    "To extract metadata:\n",
    "```julia\n",
    "get_metadata(layer_mg, MV(new_node))\n",
    "```\n",
    "\n",
    "By design, one may not add nor remove vertices to `Interlayer`s.\n",
    "\n",
    "Please refer to the Vertex section of the API page ([end-user]() and [developer]()) to discover more methods related to `MultilayerVertex`s. \n",
    "\n",
    "### Edges\n",
    "\n",
    "The edge type for multilayer graphs (and thus for thie subgraphs) is `MultilayerEdge`, which has a type parameter corresponding to the chosen weight type:"
   ]
  },
  {
   "cell_type": "code",
   "execution_count": 17,
   "metadata": {},
   "outputs": [
    {
     "data": {
      "text/plain": [
       "MultilayerEdge{Float64}"
      ]
     },
     "execution_count": 17,
     "metadata": {},
     "output_type": "execute_result"
    }
   ],
   "source": [
    "edgetype(layer_sg)"
   ]
  },
  {
   "cell_type": "markdown",
   "metadata": {},
   "source": [
    "The `MultilayerEdge`s of an unweighted simple layer are:"
   ]
  },
  {
   "cell_type": "code",
   "execution_count": 18,
   "metadata": {},
   "outputs": [
    {
     "data": {
      "text/plain": [
       "9-element Vector{MultilayerEdge{Float64}}:\n",
       " ME(MV(Node(\"node_2\"), :layer_sg, NamedTuple()) --> MV(Node(\"node_4\"), :layer_sg, NamedTuple()),\tweight = 1.0,\tmetadata = NamedTuple())\n",
       " ME(MV(Node(\"node_2\"), :layer_sg, NamedTuple()) --> MV(Node(\"node_6\"), :layer_sg, NamedTuple()),\tweight = 1.0,\tmetadata = NamedTuple())\n",
       " ME(MV(Node(\"node_2\"), :layer_sg, NamedTuple()) --> MV(Node(\"node_5\"), :layer_sg, NamedTuple()),\tweight = 1.0,\tmetadata = NamedTuple())\n",
       " ME(MV(Node(\"node_3\"), :layer_sg, NamedTuple()) --> MV(Node(\"node_4\"), :layer_sg, NamedTuple()),\tweight = 1.0,\tmetadata = NamedTuple())\n",
       " ME(MV(Node(\"node_3\"), :layer_sg, NamedTuple()) --> MV(Node(\"node_6\"), :layer_sg, NamedTuple()),\tweight = 1.0,\tmetadata = NamedTuple())\n",
       " ME(MV(Node(\"node_4\"), :layer_sg, NamedTuple()) --> MV(Node(\"node_6\"), :layer_sg, NamedTuple()),\tweight = 1.0,\tmetadata = NamedTuple())\n",
       " ME(MV(Node(\"node_4\"), :layer_sg, NamedTuple()) --> MV(Node(\"node_5\"), :layer_sg, NamedTuple()),\tweight = 1.0,\tmetadata = NamedTuple())\n",
       " ME(MV(Node(\"node_6\"), :layer_sg, NamedTuple()) --> MV(Node(\"node_5\"), :layer_sg, NamedTuple()),\tweight = 1.0,\tmetadata = NamedTuple())\n",
       " ME(MV(Node(\"node_6\"), :layer_sg, NamedTuple()) --> MV(Node(\"node_7\"), :layer_sg, NamedTuple()),\tweight = 1.0,\tmetadata = NamedTuple())"
      ]
     },
     "execution_count": 18,
     "metadata": {},
     "output_type": "execute_result"
    }
   ],
   "source": [
    "collect(edges(layer_sg))"
   ]
  },
  {
   "cell_type": "markdown",
   "metadata": {},
   "source": [
    "Where `ME` is a shorthand for `MultilayerEdge`. Besides the two vertices connected, each `MultilayerEdge` carries the information about its `weight` and `metadata`. For unweighted subgraphs, the weight is just `one(weighttype)` and for non-meta subgraphs the metadata are an empty `NamedTuple`s. See `?MultilayerEdge` for additional information.\n",
    "\n",
    "The `add_edge` function has the standard, uniform and transparent interfaces too. To understand how they work, let's define a weighted edge:"
   ]
  },
  {
   "cell_type": "code",
   "execution_count": 19,
   "metadata": {},
   "outputs": [
    {
     "data": {
      "text/plain": [
       "ME(MV(Node(\"node_4\"), :layer_swg, NamedTuple()) --> MV(Node(\"node_1\"), :layer_swg, NamedTuple()),\tweight = 0.6369546116248217,\tmetadata = NamedTuple())"
      ]
     },
     "execution_count": 19,
     "metadata": {},
     "output_type": "execute_result"
    }
   ],
   "source": [
    "# Define a weighted edge for the layer_swg\n",
    "## Define the weight\n",
    "_weight = rand()\n",
    "## Select two non-adjacenct vertices in layer_swg\n",
    "_, src_w, dst_w  = _get_srcmv_dstmv_layer(layer_swg)\n",
    "## Construct a weighted MultilayerEdge\n",
    "me_w = ME(src_w, dst_w, _weight) # ME is an alias for MultilayerEdge"
   ]
  },
  {
   "cell_type": "markdown",
   "metadata": {},
   "source": [
    "Of course, to be able to add a weighted edge to a subgraph, one must make sure that the underlying graph supports edge weights. Should one try to add a weight different from `one(weighttype)` or `nothing` to an edge of a subgraph whose underlying graph does not support edge weights, a warning is issued and the weight is discarded.\n",
    "\n",
    "Thus, if we consider a layer whose underlying graph is a `SimpleWeightedGraph`, the following three syntaxes would be equivalent.\n",
    "\n",
    "- The *standard* interface:\n",
    "```julia\n",
    "add_edge!(layer_swg, me_w)\n",
    "```\n",
    "- The *uniform* interface. This signature has two keyword arguments, `weight` and `metadata` that could be used exclusively (if, respectively, the underlying graph is weighted or supports edge-level metadata) or in combination (if the underlying graph supports both edge weights and edge-level metadata):\n",
    "```julia\n",
    "add_edge!(layer_swg, src_w, dst_w, weight = _weight)\n",
    "```\n",
    "\n",
    "The *transparent* interface. After you pass to `add_edge!` the `Layer` and the two vertices you wish to connect, you  may pass the same `args` and `kwargs`  that you would pass to the `add_edge!` dispatch that acts on the underlying graph (after the graph and vertices arguments). This is done for the same reasons explained above.\n",
    "\n",
    "Here is an example on how to use it:\n",
    "```julia\n",
    "add_edge!(layer_swg, src_w, dst_w, _weight)\n",
    "```\n",
    "where `_weight` is exactly what you would pass to the `add_edge!` method that acts on `SimpleWeightedGraph` after:\n",
    "```julia\n",
    "simpleweightedgraph = SimpleWeightedGraph(5, 0)\n",
    "add_edge!(simpleweightedgraph, 1, 2, _weight)\n",
    "```\n",
    "\n",
    "If an underlying graph has an `add_edge!` interface whose signature overlaps with that of the uniform interface, the uniform interface will prevail.\n",
    "\n",
    "If, using the *transparent* interface, one does not specify any `weight` or (inclusively) `metadata` keyword argument, the `default_edge_weight` or (inclusively) the `default_edge_metadata` function passed to the `Layer`'s constructor will be called to provide `weight` or `metadata` to the edge (type `?Layer` in the REPL for more information).\n",
    "\n",
    "To remove the edge, simply do:\n",
    "```julia\n",
    "rem_edge!(layer_swg, src_w, dst_w) # Returns true if succeeds\n",
    "```\n",
    "\n",
    "To extract weight:\n",
    "```julia\n",
    "get_weight(layer_swg, src_w, dst_w)\n",
    "```\n",
    "\n",
    "For an edge with metadata, it would be analougous. Let's define an edge with metadata:"
   ]
  },
  {
   "cell_type": "code",
   "execution_count": 20,
   "metadata": {},
   "outputs": [
    {
     "data": {
      "text/plain": [
       "ME(MV(Node(\"node_6\"), :layer_mg, NamedTuple()) --> MV(Node(\"node_5\"), :layer_mg, NamedTuple()),\tweight = nothing,\tmetadata = (meta = \"mymetadata\",))"
      ]
     },
     "execution_count": 20,
     "metadata": {},
     "output_type": "execute_result"
    }
   ],
   "source": [
    "# Define an edge with metadata for the layer_mg\n",
    "## Define the metadata\n",
    "_metadata  = (meta = \"mymetadata\",)\n",
    "## Select two non-adjacenct vertices in layer_mg\n",
    "_, src_m, dst_m  = _get_srcmv_dstmv_layer(layer_mg)\n",
    "## Construct a MultilayerEdge with metadata\n",
    "me_m = ME(src_m, dst_m, _metadata)"
   ]
  },
  {
   "cell_type": "markdown",
   "metadata": {},
   "source": [
    "Then the following three signatures would be equivalent:\n",
    "\n",
    "- *standard* interface:\n",
    "```julia\n",
    "add_edge!(layer_mg, me_m)\n",
    "```\n",
    "\n",
    "- *uniform* interface:\n",
    "```julia\n",
    "add_edge!(layer_mg, src_m, dst_m, metadata = _metadata)\n",
    "```\n",
    "\n",
    "- *transparent* interface\n",
    "```julia\n",
    "add_edge!(layer_mg, src_m, dst_m, Dict(pairs(_metadata)))\n",
    "```\n",
    "\n",
    "To extract metadata:\n",
    "```julia\n",
    "get_metadata(layer_mg, src_m, dst_m)\n",
    "```\n",
    "\n",
    "\n",
    "Please refer to the Vertex section of the API page ([end-user]() and [developer]()) to discover more methods related to `MultilayerEdges`s.\n",
    "\n",
    "For the `layer_swg`, the following three seignatures would be equivalent:\n",
    "\n",
    "- *standard* interface:\n",
    "```julia\n",
    "add_edge!(layer_swg, me_w)\n",
    "```\n",
    "\n",
    "- *uniform* interface:\n",
    "```julia\n",
    "add_edge!(layer_swg, src_w, dst_w, weight = _weight)\n",
    "```\n",
    "\n",
    "- *transparent* interface\n",
    "```julia\n",
    "add_edge!(layer_swg, src_w, dst_w, _weight)\n",
    "```\n",
    "\n",
    "The uniform interface of `add_edge!` works so that the user may specify the keyword `weight` and/or the keyword `metadata`. If an underlying subgraph has a transparent interface whose signature overlaps with that of the uniform interface, the uniform interface will be prevail.\n",
    "\n",
    "The edge may be removed via \n",
    "\n",
    "```julia\n",
    "rem_edge!(layer_swg, src_w, dst_w)\n",
    "```\n",
    "\n",
    "Please refer to the `MultilayerEdge` section of the API page ([end-user]() and [developer]()) to discover more methods related to `MultilayerEdge`s.\n",
    "\n",
    "### Multilayer Graphs\n",
    "\n",
    "Given all the `Layer`s and the `Interlayer`s, let's instantiate a multilayer graph as follows:"
   ]
  },
  {
   "cell_type": "code",
   "execution_count": 21,
   "metadata": {},
   "outputs": [],
   "source": [
    "multilayergraph = MultilayerGraph(  layers,                                                 # The (ordered) list of layers the multilayer graph will have\n",
    "                                    interlayers;                                            # The list of interlayers specified by the user. Note that the user does not need to specify all interlayers, as the unspecified ones will be automatically constructed using the indications given by the `default_interlayers_null_graph` and `default_interlayers_structure` keywords.\n",
    "                                    default_interlayers_null_graph = SimpleGraph{vertextype}(), # Sets the underlying graph for the interlayers that are to be automatically specified.  Defaults to `SimpleGraph{T}()`. See the `Layer` constructors for more information.\n",
    "                                    default_interlayers_structure = \"multiplex\" # Sets the structure of the interlayers that are to be automatically specified. May be \"multiplex\" for diagonally coupled interlayers, or \"empty\" for empty interlayers (no edges).  \"multiplex\". See the `Interlayer` constructors for more information.\n",
    ");"
   ]
  },
  {
   "cell_type": "markdown",
   "metadata": {},
   "source": [
    "Keep in mind that `Multilayer(Di)Graph` only supports uniform and standard interface for both `add_vertex!` and `add_edge!`.\n",
    "\n",
    "As already stated, a `MultilayerGraph` is an object made of `Layer`s and `Interlayer`s whose collections of vertices each represents a subset of the set of nodes, here being `nodes`.\n",
    "\n",
    "*Adding* a `Node` to a `MultilayerGraph` will enable its `Layer`s  (and thus its `Interlayer`s) to represent it i.e. you will be able to add `MultilayerVertex`s that represent that `Node` to the multilayer graph.\n",
    "\n",
    "Another constructor allows for a limited configuration model-like specification. It allows to generate a multilayer graph with a specific degree distribution. Since edges are created according to the provided distribution, it is necessary that the layers and interlayers specified are empty (i.e. they have no edges). Notice that layers and interlayers whose underlying graph is a `SimpleWeighted(Di)Graph` may not be used until [this PR](https://github.com/JuliaGraphs/SimpleWeightedGraphs.jl/pull/14) is merged.\n",
    "\n",
    "It is used as:"
   ]
  },
  {
   "cell_type": "code",
   "execution_count": 22,
   "metadata": {},
   "outputs": [
    {
     "name": "stderr",
     "output_type": "stream",
     "text": [
      "┌ Info: Looping through wirings to find one that works...\n",
      "└ @ MultilayerGraphs E:\\other_drives\\developer07\\package_development\\MultilayerGraphs\\dev\\MultilayerGraphs\\src\\utilities.jl:441\n"
     ]
    }
   ],
   "source": [
    "# First, we need to empty the above layers and interlayers, and remove the ones having a `SimpleWeightedGraph`s. Thse lines are not necessary to comprehend the tutorial, they may be skipped. Just know that the variables `empty_layers` and `empty_interlayers` are two lists of. respectively, empty layers and interlayers that do not have `SimpleWeightedGraph`s as ther underlyin graphs\n",
    "\n",
    "empty_layers =  deepcopy([layer for layer in layers if !(layer.graph isa SimpleWeightedGraphs.AbstractSimpleWeightedGraph)])\n",
    "\n",
    "empty_layers_names = name.(empty_layers)\n",
    "\n",
    "empty_interlayers =  deepcopy([interlayer for interlayer in interlayers if all(in.(interlayer.layers_names, Ref(empty_layers_names))) && !(interlayer.graph isa SimpleWeightedGraphs.AbstractSimpleWeightedGraph) ])\n",
    "\n",
    "for layer in empty_layers\n",
    "    for edge in edges(layer)\n",
    "        rem_edge!(layer, edge)\n",
    "    end\n",
    "end\n",
    "\n",
    "for interlayer in empty_interlayers\n",
    "    for edge in edges(interlayer)\n",
    "        rem_edge!(interlayer, edge)\n",
    "    end\n",
    "end\n",
    "\n",
    "# Construct a multilayer graph that has a normal degree distribution. The support of the distribution must be positive, since negative degrees are not possible\n",
    "configuration_multilayergraph = MultilayerGraph(empty_layers, empty_interlayers, truncated(Normal(10), 0.0, 20.0));"
   ]
  },
  {
   "cell_type": "markdown",
   "metadata": {
    "tags": []
   },
   "source": [
    "Note that this is not an implementation of a fully-fledged confiuration model, which would require to be able to specify a degree distribution for every dimension of multiplexity. Please refer to [#future-developments]().\n",
    "\n",
    "There is a similar constructor for `MultilayerDiGraph` which requires both the indregree distribution and the outdegree distribution. Anyway due to current performance limitations in the graph realization algorithms, it is suggested to provide two \"similar\" distributions (similar mean or location parameter, similar variance or shape parameter), in order not to incur in lengthy computational times.  \n",
    "\n",
    "#### Nodes\n",
    "\n",
    "You may add a node via `add_node`:"
   ]
  },
  {
   "cell_type": "code",
   "execution_count": 23,
   "metadata": {},
   "outputs": [
    {
     "data": {
      "text/plain": [
       "true"
      ]
     },
     "execution_count": 23,
     "metadata": {},
     "output_type": "execute_result"
    }
   ],
   "source": [
    "new_node = Node(\"new_node\")\n",
    "add_node!(multilayergraph, new_node) # Return true if succeeds"
   ]
  },
  {
   "cell_type": "markdown",
   "metadata": {},
   "source": [
    "Now one may add vertices that represent that node, e.g.:"
   ]
  },
  {
   "cell_type": "code",
   "execution_count": 24,
   "metadata": {},
   "outputs": [
    {
     "data": {
      "text/plain": [
       "true"
      ]
     },
     "execution_count": 24,
     "metadata": {},
     "output_type": "execute_result"
    }
   ],
   "source": [
    "new_vertex = MV(new_node, :layer_sg)\n",
    "add_vertex!(multilayergraph, new_vertex)\n",
    "rem_vertex!(multilayergraph, new_vertex) # hide"
   ]
  },
  {
   "cell_type": "markdown",
   "metadata": {},
   "source": [
    "And remove the node via `rem_node!`:"
   ]
  },
  {
   "cell_type": "code",
   "execution_count": 25,
   "metadata": {},
   "outputs": [
    {
     "data": {
      "text/plain": [
       "true"
      ]
     },
     "execution_count": 25,
     "metadata": {},
     "output_type": "execute_result"
    }
   ],
   "source": [
    "rem_node!(multilayergraph, new_node) # Return true if succeeds"
   ]
  },
  {
   "cell_type": "markdown",
   "metadata": {},
   "source": [
    "#### Modifying edge weight and metadata and vertex metadata\n",
    "\n",
    "One may modify the weight of the edge of a multilayer graph via the `set_weight!` function. The call will succeed only if the edge that is acted upon exists and belongs to a weighted subgraph:"
   ]
  },
  {
   "cell_type": "code",
   "execution_count": 26,
   "metadata": {},
   "outputs": [
    {
     "data": {
      "text/plain": [
       "true"
      ]
     },
     "execution_count": 26,
     "metadata": {},
     "output_type": "execute_result"
    }
   ],
   "source": [
    "# This will succeed\n",
    "random_weighted_edge = rand(collect(edges(multilayergraph.layer_swg)))\n",
    "set_weight!(multilayergraph, src(random_weighted_edge), dst(random_weighted_edge), rand())"
   ]
  },
  {
   "cell_type": "code",
   "execution_count": 27,
   "metadata": {},
   "outputs": [
    {
     "data": {
      "text/plain": [
       "false"
      ]
     },
     "execution_count": 27,
     "metadata": {},
     "output_type": "execute_result"
    }
   ],
   "source": [
    "# This will not succeed\n",
    "random_unweighted_edge = rand(collect(edges(multilayergraph.layer_sg)))\n",
    "set_weight!(multilayergraph, src(random_unweighted_edge), dst(random_unweighted_edge), rand())"
   ]
  },
  {
   "cell_type": "markdown",
   "metadata": {},
   "source": [
    "Equivalent arguments can be made for [`set_metadata!`](@ref) (both vertex and edge dispatches)."
   ]
  },
  {
   "cell_type": "markdown",
   "metadata": {},
   "source": [
    "#### Adding, Removing, Modifying and Accessing layers and interlayers\n",
    "One may of course add layers on the fly:"
   ]
  },
  {
   "cell_type": "code",
   "execution_count": 28,
   "metadata": {},
   "outputs": [
    {
     "data": {
      "text/plain": [
       "true"
      ]
     },
     "execution_count": 28,
     "metadata": {},
     "output_type": "execute_result"
    }
   ],
   "source": [
    "# Intantiate a new Layer\n",
    "_nv, _ne = rand_nv_ne_layer(min_vertices,max_vertices)\n",
    "new_layer = Layer(  :new_layer,\n",
    "                    sample(multilayervertices, _nv, replace = false),\n",
    "                    _ne, \n",
    "                    SimpleGraph{vertextype}(),\n",
    "                    _weighttype\n",
    ")\n",
    "\n",
    "# Add the Layer\n",
    "add_layer!(\n",
    "            multilayergraph,                                # the `Multilayer(Di)Graph` which the new layer will be added to;\n",
    "            new_layer;                                      # the new `Layer` to add to the `multilayergraph`\n",
    "            default_interlayers_null_graph = SimpleGraph{vertextype}(), # upon addition of a new `Layer`, all the `Interlayer`s between the new and the existing `Layer`s are immediately created. This keyword argument specifies their `null_graph` See the `Layer` constructor for more information. Defaults to `SimpleGraph{T}()`\n",
    "            default_interlayers_structure = \"empty\"         # The structure of the `Interlayer`s created by deafault. May either be \"multiplex\" to have diagonally-coupled only interlayers, or \"empty\" for empty interlayers. Defaults to \"multiplex\".\n",
    ")\n",
    "\n",
    "# Check that the new layer now exists within the multilayer graph\n",
    "has_layer(multilayergraph, :new_layer)"
   ]
  },
  {
   "cell_type": "markdown",
   "metadata": {},
   "source": [
    "The `add_layer!` function will automatically instantiate all the `Interlayer`s between the newly added `Layer` and the `Layer`s already present in the multilayer graph.\n",
    "\n",
    "If you wish to manually specify an interlayer, just do:"
   ]
  },
  {
   "cell_type": "code",
   "execution_count": 29,
   "metadata": {},
   "outputs": [
    {
     "data": {
      "text/plain": [
       "true"
      ]
     },
     "execution_count": 29,
     "metadata": {},
     "output_type": "execute_result"
    }
   ],
   "source": [
    "# Instantiate a new Interlayer. Notice that its name will be given by default as \n",
    "_ne = rand_ne_interlayer(layer_sg, new_layer)\n",
    "new_interlayer = Interlayer(    layer_sg,                \n",
    "                                new_layer,               \n",
    "                                _ne,                     \n",
    "                                SimpleGraph{vertextype}(),\n",
    "                                name = :new_interlayer\n",
    ")\n",
    "\n",
    "# Modify an existing interlayer with the latter i.e. specify the latter interlayer:\n",
    "specify_interlayer!( multilayergraph,\n",
    "                     new_interlayer)\n",
    "\n",
    "# Now the interlayer between `layer_sg` and `new_layer` is `new_interlayer`"
   ]
  },
  {
   "cell_type": "markdown",
   "metadata": {},
   "source": [
    "Suppose that, after some modifications of `multilayergraph`, you would like to inspect a particular slice (or subgraph) of it (i.e. a `Layer` or an `Interlayer`). You may get both layers and interlayers as properties of the multilayer graph itself."
   ]
  },
  {
   "cell_type": "code",
   "execution_count": 30,
   "metadata": {},
   "outputs": [
    {
     "data": {
      "text/plain": [
       "Layer{Int64, Float64, SimpleGraph{Int64}}(LayerDescriptor{Int64, Float64, SimpleGraph{Int64}}(:new_layer, SimpleGraph{Int64}(0, Vector{Int64}[]), MultilayerGraphs.var\"#54#60\"(), MultilayerGraphs.var\"#55#61\"(), MultilayerGraphs.var\"#56#62\"()), SimpleGraph{Int64}(10, [[3, 5, 7], [4, 5, 6], [1, 6], [2, 7], [1, 2, 6], [2, 3, 5, 7], [1, 4, 6]]), Bijection{Int64,MultilayerVertex{:new_layer}} (with 7 pairs))"
      ]
     },
     "execution_count": 30,
     "metadata": {},
     "output_type": "execute_result"
    }
   ],
   "source": [
    "# Get a layer by name \n",
    "multilayergraph.new_layer"
   ]
  },
  {
   "cell_type": "code",
   "execution_count": 31,
   "metadata": {},
   "outputs": [
    {
     "data": {
      "text/plain": [
       "Interlayer{Int64, Float64, SimpleGraph{Int64}}(InterlayerDescriptor{Int64, Float64, SimpleGraph{Int64}}(:new_interlayer, :layer_sg, :new_layer, SimpleGraph{Int64}(0, Vector{Int64}[]), MultilayerGraphs.var\"#92#96\"(), MultilayerGraphs.var\"#93#97\"(), false), SimpleGraph{Int64}(19, [[7, 12], [7, 8, 10, 11, 13], [7, 10], [7, 13], [7, 9, 11, 13], [7, 8, 12, 13], [1, 2, 3, 4, 5, 6], [2, 6], [5], [2, 3], [2, 5], [1, 6], [2, 4, 5, 6]]), Bijection{Int64,MultilayerVertex} (with 13 pairs))"
      ]
     },
     "execution_count": 31,
     "metadata": {},
     "output_type": "execute_result"
    }
   ],
   "source": [
    "# Get an Interlayer by name\n",
    "multilayergraph.new_interlayer"
   ]
  },
  {
   "cell_type": "markdown",
   "metadata": {},
   "source": [
    "`Interlayer`s may also be accessed by remembering the names of the `Layer`s they connect:"
   ]
  },
  {
   "cell_type": "code",
   "execution_count": 32,
   "metadata": {},
   "outputs": [
    {
     "data": {
      "text/plain": [
       "Interlayer{Int64, Float64, SimpleGraph{Int64}}(InterlayerDescriptor{Int64, Float64, SimpleGraph{Int64}}(:new_interlayer_rev, :new_layer, :layer_sg, SimpleGraph{Int64}(0, Vector{Int64}[]), MultilayerGraphs.var\"#92#96\"(), MultilayerGraphs.var\"#93#97\"(), false), SimpleGraph{Int64}(19, [[8, 9, 10, 11, 12, 13], [9, 13], [12], [9, 10], [9, 12], [8, 13], [9, 11, 12, 13], [1, 6], [1, 2, 4, 5, 7], [1, 4], [1, 7], [1, 3, 5, 7], [1, 2, 6, 7]]), Bijection{Int64,MultilayerVertex} (with 13 pairs))"
      ]
     },
     "execution_count": 32,
     "metadata": {},
     "output_type": "execute_result"
    }
   ],
   "source": [
    "# Get an Interlayer from the nams of the two layers that it connects\n",
    "get_interlayer(multilayergraph, :new_layer, :layer_sg )"
   ]
  },
  {
   "cell_type": "markdown",
   "metadata": {},
   "source": [
    "**NB:** Although the interlayer from an arbitrary `layer_1` to `layer_2` is the same mathematical object as the interlayer from `layer_2` to `layer_1`, their representations as `Interlayer`s differ in the internals, and most notably in the order of the vertices. The `Interlayer` from `layer_1` to `layer_2` orders its internal vertices label so that the `MultilayerVertex`s of `layer_1` (in the order they were in `layer_1` when the `Interlayer` was instantiated) come before the `MultilayerVertex`s of `layer_2` (in the order they were in `layer_2` when the `Interlayer` was instantiated).\n",
    "\n",
    "When calling `get_interlayer(multilayergraph, :layer_1, :layer_2)` it is returned the `Interlayer` from `layer_1` to `layer_2`. If the Interlayer from `layer_2` to `layer_1` was manually specified or automatically generated during  during the instantiation of the multilayer graph with name, say, `\"some_interlayer\"`, then the returned `Interlayer` will be named `\"some_interlayer_rev\"`."
   ]
  },
  {
   "cell_type": "markdown",
   "metadata": {},
   "source": [
    "To remove a layer:"
   ]
  },
  {
   "cell_type": "code",
   "execution_count": 33,
   "metadata": {},
   "outputs": [
    {
     "data": {
      "text/plain": [
       "true"
      ]
     },
     "execution_count": 33,
     "metadata": {},
     "output_type": "execute_result"
    }
   ],
   "source": [
    "# Remove the layer. This will also remove all the interlayers associated to it.\n",
    "rem_layer!( multilayergraph,\n",
    "            :new_layer;\n",
    "            remove_nodes = false # Whether to also remove all nodes repesented in the to-be-removed layer from the multilayer graph\n",
    ")\n"
   ]
  },
  {
   "cell_type": "markdown",
   "metadata": {},
   "source": [
    "Visit the **Layers and Interlayers** subsection of the [end-user]() and [developer]() APIs to discover more useful methods.\n",
    "\n",
    "#### Weight/Adjacency Tensor, Metadata Tensor and Supra Weight/Adjacency Matrix\n",
    "\n",
    "One may extract the weight tensor of a `multilayergraph` via:"
   ]
  },
  {
   "cell_type": "code",
   "execution_count": 34,
   "metadata": {},
   "outputs": [
    {
     "data": {
      "text/plain": [
       "WeightTensor{Float64}([0.0 0.0 … 0.0 0.0; 0.0 0.0 … 0.0 0.0; … ; 0.0 0.0 … 0.0 0.0; 0.0 0.0 … 0.0 0.0;;; 0.0 1.0 … 0.0 0.0; 1.0 1.0 … 0.0 0.0; … ; 0.0 0.0 … 0.0 0.0; 0.0 1.0 … 1.0 0.0;;; 1.0 0.0 … 0.0 0.0; 0.0 0.0 … 0.0 0.0; … ; 0.0 0.0 … 1.0 0.0; 0.0 0.0 … 0.0 0.0;;; 0.0 0.0 … 0.0 0.0; 0.0 0.0 … 0.0 0.0; … ; 0.0 0.0 … 0.0 0.0; 0.0 0.0 … 0.0 0.0;;;; 0.0 1.0 … 0.0 0.0; 1.0 1.0 … 0.0 1.0; … ; 0.0 0.0 … 0.0 1.0; 0.0 0.0 … 0.0 0.0;;; 0.0 0.9828581516714545 … 0.0 0.7736606234481569; 0.9828581516714545 0.0 … 0.0 0.0; … ; 0.0 0.0 … 0.0 0.0; 0.7736606234481569 0.0 … 0.0 0.0;;; 0.19989407135094706 0.0 … 0.0 0.16650315003660054; 0.0 0.0 … 0.0 0.0; … ; 0.0 0.6643136923736794 … 0.0 0.0; 0.40879510776523964 0.7458197468092816 … 0.0 0.0;;; 1.0 0.0 … 0.0 0.0; 0.0 0.0 … 0.0 0.0; … ; 0.0 0.0 … 0.0 0.0; 0.0 0.0 … 0.0 1.0;;;; 1.0 0.0 … 0.0 0.0; 0.0 0.0 … 0.0 0.0; … ; 0.0 0.0 … 1.0 0.0; 0.0 0.0 … 0.0 0.0;;; 0.19989407135094706 0.0 … 0.0 0.40879510776523964; 0.0 0.0 … 0.6643136923736794 0.7458197468092816; … ; 0.0 0.0 … 0.0 0.0; 0.16650315003660054 0.0 … 0.0 0.0;;; 0.0 0.0 … 0.0 1.0; 0.0 0.0 … 0.0 0.0; … ; 0.0 0.0 … 0.0 0.0; 1.0 0.0 … 0.0 0.0;;; 1.0 0.0 … 1.0 1.0; 0.0 0.0 … 0.0 0.0; … ; 0.0 0.0 … 1.0 0.0; 0.0 0.0 … 1.0 1.0;;;; 0.0 0.0 … 0.0 0.0; 0.0 0.0 … 0.0 0.0; … ; 0.0 0.0 … 0.0 0.0; 0.0 0.0 … 0.0 0.0;;; 1.0 0.0 … 0.0 0.0; 0.0 0.0 … 0.0 0.0; … ; 0.0 0.0 … 0.0 0.0; 0.0 0.0 … 0.0 1.0;;; 1.0 0.0 … 0.0 0.0; 0.0 0.0 … 0.0 0.0; … ; 1.0 0.0 … 1.0 1.0; 1.0 0.0 … 0.0 1.0;;; 0.0 0.0 … 1.0 0.0; 0.0 0.0 … 0.0 0.0; … ; 1.0 0.0 … 0.0 1.0; 0.0 0.0 … 1.0 0.0], [:layer_sg, :layer_swg, :layer_mg, :layer_vg], Bijection{Int64,Node} (with 7 pairs))"
      ]
     },
     "execution_count": 34,
     "metadata": {},
     "output_type": "execute_result"
    }
   ],
   "source": [
    "wgt = weight_tensor(multilayergraph)"
   ]
  },
  {
   "cell_type": "markdown",
   "metadata": {},
   "source": [
    "Note that `wgt` is an object of type [`WeightTensor`](@ref). You may access its array representation using:"
   ]
  },
  {
   "cell_type": "code",
   "execution_count": 35,
   "metadata": {},
   "outputs": [],
   "source": [
    "array(wgt)\n",
    "; # hide"
   ]
  },
  {
   "cell_type": "markdown",
   "metadata": {},
   "source": [
    "Also, you may index it using `MultilayerVertex`s:"
   ]
  },
  {
   "cell_type": "code",
   "execution_count": 36,
   "metadata": {},
   "outputs": [
    {
     "data": {
      "text/plain": [
       "0.0"
      ]
     },
     "execution_count": 36,
     "metadata": {},
     "output_type": "execute_result"
    }
   ],
   "source": [
    "# Get two random vertices from the MultilayerGraph\n",
    "mv1, mv2 = rand(mv_vertices(multilayergraph), 2)\n",
    "\n",
    "# Get the strength of the edge between them (0 for no edge):\n",
    "wgt[mv1, mv2]"
   ]
  },
  {
   "cell_type": "markdown",
   "metadata": {
    "tags": []
   },
   "source": [
    "Similarly, there is a [`MetadataTensor`](@ref), that may be created via `metadata_tensor(multilayergraph)`\n",
    "\n",
    "The package also exports a [`SupraWeightMatrix`](@ref) which is a supra (weighted) adjacency matrix with the same indexing functionality as above. You may instantiate it via `supra_weight_matrix(multilayergraph)`.\n",
    "\n",
    "#### Multilayer-specific analytical tools\n",
    "\n",
    "Read a complete list of analytical methods exclusive to multilayer graphs in the [dedicated API section]() (here \"exclusive\" means that wither those methods do not exists for standard graphs, or that they had to be reimplemented and so may present some caveats). Refer to their docstrings for more information.\n",
    "\n",
    "### Future developments\n",
    "\n",
    "1. [Faster graph realization algorithms]();\n",
    "2. [More general configuration model]();\n",
    "3. [Graph of layers implementation]();\n",
    "4. [More default multilayer graphs]() (e.g. multiplex graphs)."
   ]
  }
 ],
 "metadata": {
  "kernelspec": {
   "display_name": "Julia 1.8.2",
   "language": "julia",
   "name": "julia-1.8"
  },
  "language_info": {
   "file_extension": ".jl",
   "mimetype": "application/julia",
   "name": "julia",
   "version": "1.8.2"
  },
  "vscode": {
   "interpreter": {
    "hash": "5412cd009bff63efdf7218dc0b211ab2aa2f7224759342aa5065dcaf874809da"
   }
  }
 },
 "nbformat": 4,
 "nbformat_minor": 4
}
